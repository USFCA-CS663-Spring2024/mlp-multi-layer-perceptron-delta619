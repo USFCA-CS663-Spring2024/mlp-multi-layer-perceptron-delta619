{
 "cells": [
  {
   "cell_type": "markdown",
   "id": "a42c791d",
   "metadata": {},
   "source": [
    "# MLP - Wine quality prediction"
   ]
  },
  {
   "cell_type": "code",
   "execution_count": 1,
   "id": "23182f0d",
   "metadata": {
    "tags": []
   },
   "outputs": [
    {
     "data": {
      "text/html": [
       "<div>\n",
       "<style scoped>\n",
       "    .dataframe tbody tr th:only-of-type {\n",
       "        vertical-align: middle;\n",
       "    }\n",
       "\n",
       "    .dataframe tbody tr th {\n",
       "        vertical-align: top;\n",
       "    }\n",
       "\n",
       "    .dataframe thead th {\n",
       "        text-align: right;\n",
       "    }\n",
       "</style>\n",
       "<table border=\"1\" class=\"dataframe\">\n",
       "  <thead>\n",
       "    <tr style=\"text-align: right;\">\n",
       "      <th></th>\n",
       "      <th>fixed acidity</th>\n",
       "      <th>volatile acidity</th>\n",
       "      <th>citric acid</th>\n",
       "      <th>residual sugar</th>\n",
       "      <th>chlorides</th>\n",
       "      <th>free sulfur dioxide</th>\n",
       "      <th>total sulfur dioxide</th>\n",
       "      <th>density</th>\n",
       "      <th>pH</th>\n",
       "      <th>sulphates</th>\n",
       "      <th>alcohol</th>\n",
       "      <th>quality</th>\n",
       "    </tr>\n",
       "  </thead>\n",
       "  <tbody>\n",
       "    <tr>\n",
       "      <th>0</th>\n",
       "      <td>7.4</td>\n",
       "      <td>0.700</td>\n",
       "      <td>0.00</td>\n",
       "      <td>1.9</td>\n",
       "      <td>0.076</td>\n",
       "      <td>11.0</td>\n",
       "      <td>34.0</td>\n",
       "      <td>0.99780</td>\n",
       "      <td>3.51</td>\n",
       "      <td>0.56</td>\n",
       "      <td>9.4</td>\n",
       "      <td>5</td>\n",
       "    </tr>\n",
       "    <tr>\n",
       "      <th>1</th>\n",
       "      <td>7.8</td>\n",
       "      <td>0.880</td>\n",
       "      <td>0.00</td>\n",
       "      <td>2.6</td>\n",
       "      <td>0.098</td>\n",
       "      <td>25.0</td>\n",
       "      <td>67.0</td>\n",
       "      <td>0.99680</td>\n",
       "      <td>3.20</td>\n",
       "      <td>0.68</td>\n",
       "      <td>9.8</td>\n",
       "      <td>5</td>\n",
       "    </tr>\n",
       "    <tr>\n",
       "      <th>2</th>\n",
       "      <td>7.8</td>\n",
       "      <td>0.760</td>\n",
       "      <td>0.04</td>\n",
       "      <td>2.3</td>\n",
       "      <td>0.092</td>\n",
       "      <td>15.0</td>\n",
       "      <td>54.0</td>\n",
       "      <td>0.99700</td>\n",
       "      <td>3.26</td>\n",
       "      <td>0.65</td>\n",
       "      <td>9.8</td>\n",
       "      <td>5</td>\n",
       "    </tr>\n",
       "    <tr>\n",
       "      <th>3</th>\n",
       "      <td>11.2</td>\n",
       "      <td>0.280</td>\n",
       "      <td>0.56</td>\n",
       "      <td>1.9</td>\n",
       "      <td>0.075</td>\n",
       "      <td>17.0</td>\n",
       "      <td>60.0</td>\n",
       "      <td>0.99800</td>\n",
       "      <td>3.16</td>\n",
       "      <td>0.58</td>\n",
       "      <td>9.8</td>\n",
       "      <td>6</td>\n",
       "    </tr>\n",
       "    <tr>\n",
       "      <th>4</th>\n",
       "      <td>7.4</td>\n",
       "      <td>0.700</td>\n",
       "      <td>0.00</td>\n",
       "      <td>1.9</td>\n",
       "      <td>0.076</td>\n",
       "      <td>11.0</td>\n",
       "      <td>34.0</td>\n",
       "      <td>0.99780</td>\n",
       "      <td>3.51</td>\n",
       "      <td>0.56</td>\n",
       "      <td>9.4</td>\n",
       "      <td>5</td>\n",
       "    </tr>\n",
       "    <tr>\n",
       "      <th>...</th>\n",
       "      <td>...</td>\n",
       "      <td>...</td>\n",
       "      <td>...</td>\n",
       "      <td>...</td>\n",
       "      <td>...</td>\n",
       "      <td>...</td>\n",
       "      <td>...</td>\n",
       "      <td>...</td>\n",
       "      <td>...</td>\n",
       "      <td>...</td>\n",
       "      <td>...</td>\n",
       "      <td>...</td>\n",
       "    </tr>\n",
       "    <tr>\n",
       "      <th>1594</th>\n",
       "      <td>6.2</td>\n",
       "      <td>0.600</td>\n",
       "      <td>0.08</td>\n",
       "      <td>2.0</td>\n",
       "      <td>0.090</td>\n",
       "      <td>32.0</td>\n",
       "      <td>44.0</td>\n",
       "      <td>0.99490</td>\n",
       "      <td>3.45</td>\n",
       "      <td>0.58</td>\n",
       "      <td>10.5</td>\n",
       "      <td>5</td>\n",
       "    </tr>\n",
       "    <tr>\n",
       "      <th>1595</th>\n",
       "      <td>5.9</td>\n",
       "      <td>0.550</td>\n",
       "      <td>0.10</td>\n",
       "      <td>2.2</td>\n",
       "      <td>0.062</td>\n",
       "      <td>39.0</td>\n",
       "      <td>51.0</td>\n",
       "      <td>0.99512</td>\n",
       "      <td>3.52</td>\n",
       "      <td>0.76</td>\n",
       "      <td>11.2</td>\n",
       "      <td>6</td>\n",
       "    </tr>\n",
       "    <tr>\n",
       "      <th>1596</th>\n",
       "      <td>6.3</td>\n",
       "      <td>0.510</td>\n",
       "      <td>0.13</td>\n",
       "      <td>2.3</td>\n",
       "      <td>0.076</td>\n",
       "      <td>29.0</td>\n",
       "      <td>40.0</td>\n",
       "      <td>0.99574</td>\n",
       "      <td>3.42</td>\n",
       "      <td>0.75</td>\n",
       "      <td>11.0</td>\n",
       "      <td>6</td>\n",
       "    </tr>\n",
       "    <tr>\n",
       "      <th>1597</th>\n",
       "      <td>5.9</td>\n",
       "      <td>0.645</td>\n",
       "      <td>0.12</td>\n",
       "      <td>2.0</td>\n",
       "      <td>0.075</td>\n",
       "      <td>32.0</td>\n",
       "      <td>44.0</td>\n",
       "      <td>0.99547</td>\n",
       "      <td>3.57</td>\n",
       "      <td>0.71</td>\n",
       "      <td>10.2</td>\n",
       "      <td>5</td>\n",
       "    </tr>\n",
       "    <tr>\n",
       "      <th>1598</th>\n",
       "      <td>6.0</td>\n",
       "      <td>0.310</td>\n",
       "      <td>0.47</td>\n",
       "      <td>3.6</td>\n",
       "      <td>0.067</td>\n",
       "      <td>18.0</td>\n",
       "      <td>42.0</td>\n",
       "      <td>0.99549</td>\n",
       "      <td>3.39</td>\n",
       "      <td>0.66</td>\n",
       "      <td>11.0</td>\n",
       "      <td>6</td>\n",
       "    </tr>\n",
       "  </tbody>\n",
       "</table>\n",
       "<p>1599 rows × 12 columns</p>\n",
       "</div>"
      ],
      "text/plain": [
       "      fixed acidity  volatile acidity  citric acid  residual sugar  chlorides  \\\n",
       "0               7.4             0.700         0.00             1.9      0.076   \n",
       "1               7.8             0.880         0.00             2.6      0.098   \n",
       "2               7.8             0.760         0.04             2.3      0.092   \n",
       "3              11.2             0.280         0.56             1.9      0.075   \n",
       "4               7.4             0.700         0.00             1.9      0.076   \n",
       "...             ...               ...          ...             ...        ...   \n",
       "1594            6.2             0.600         0.08             2.0      0.090   \n",
       "1595            5.9             0.550         0.10             2.2      0.062   \n",
       "1596            6.3             0.510         0.13             2.3      0.076   \n",
       "1597            5.9             0.645         0.12             2.0      0.075   \n",
       "1598            6.0             0.310         0.47             3.6      0.067   \n",
       "\n",
       "      free sulfur dioxide  total sulfur dioxide  density    pH  sulphates  \\\n",
       "0                    11.0                  34.0  0.99780  3.51       0.56   \n",
       "1                    25.0                  67.0  0.99680  3.20       0.68   \n",
       "2                    15.0                  54.0  0.99700  3.26       0.65   \n",
       "3                    17.0                  60.0  0.99800  3.16       0.58   \n",
       "4                    11.0                  34.0  0.99780  3.51       0.56   \n",
       "...                   ...                   ...      ...   ...        ...   \n",
       "1594                 32.0                  44.0  0.99490  3.45       0.58   \n",
       "1595                 39.0                  51.0  0.99512  3.52       0.76   \n",
       "1596                 29.0                  40.0  0.99574  3.42       0.75   \n",
       "1597                 32.0                  44.0  0.99547  3.57       0.71   \n",
       "1598                 18.0                  42.0  0.99549  3.39       0.66   \n",
       "\n",
       "      alcohol  quality  \n",
       "0         9.4        5  \n",
       "1         9.8        5  \n",
       "2         9.8        5  \n",
       "3         9.8        6  \n",
       "4         9.4        5  \n",
       "...       ...      ...  \n",
       "1594     10.5        5  \n",
       "1595     11.2        6  \n",
       "1596     11.0        6  \n",
       "1597     10.2        5  \n",
       "1598     11.0        6  \n",
       "\n",
       "[1599 rows x 12 columns]"
      ]
     },
     "execution_count": 1,
     "metadata": {},
     "output_type": "execute_result"
    }
   ],
   "source": [
    "# Importing the libraries\n",
    "import pandas as pd\n",
    "import matplotlib.pyplot as plt\n",
    "from torch.utils.data import DataLoader\n",
    "import numpy as np\n",
    "import seaborn as sns\n",
    "from sklearn.model_selection import train_test_split\n",
    "import torch\n",
    "from torch.utils.data import Dataset\n",
    "import matplotlib.pyplot as plt\n",
    "import numpy as np\n",
    "\n",
    "from sklearn.model_selection import ParameterGrid\n",
    "import random \n",
    "\n",
    "df = pd.read_csv('winequality-red.csv')\n",
    "df"
   ]
  },
  {
   "cell_type": "code",
   "execution_count": 2,
   "id": "289b357b",
   "metadata": {
    "tags": []
   },
   "outputs": [
    {
     "data": {
      "text/html": [
       "<div>\n",
       "<style scoped>\n",
       "    .dataframe tbody tr th:only-of-type {\n",
       "        vertical-align: middle;\n",
       "    }\n",
       "\n",
       "    .dataframe tbody tr th {\n",
       "        vertical-align: top;\n",
       "    }\n",
       "\n",
       "    .dataframe thead th {\n",
       "        text-align: right;\n",
       "    }\n",
       "</style>\n",
       "<table border=\"1\" class=\"dataframe\">\n",
       "  <thead>\n",
       "    <tr style=\"text-align: right;\">\n",
       "      <th></th>\n",
       "      <th>fixed acidity</th>\n",
       "      <th>volatile acidity</th>\n",
       "      <th>citric acid</th>\n",
       "      <th>residual sugar</th>\n",
       "      <th>chlorides</th>\n",
       "      <th>free sulfur dioxide</th>\n",
       "      <th>total sulfur dioxide</th>\n",
       "      <th>density</th>\n",
       "      <th>pH</th>\n",
       "      <th>sulphates</th>\n",
       "      <th>alcohol</th>\n",
       "      <th>quality</th>\n",
       "    </tr>\n",
       "  </thead>\n",
       "  <tbody>\n",
       "    <tr>\n",
       "      <th>count</th>\n",
       "      <td>1599.000000</td>\n",
       "      <td>1599.000000</td>\n",
       "      <td>1599.000000</td>\n",
       "      <td>1599.000000</td>\n",
       "      <td>1599.000000</td>\n",
       "      <td>1599.000000</td>\n",
       "      <td>1599.000000</td>\n",
       "      <td>1599.000000</td>\n",
       "      <td>1599.000000</td>\n",
       "      <td>1599.000000</td>\n",
       "      <td>1599.000000</td>\n",
       "      <td>1599.000000</td>\n",
       "    </tr>\n",
       "    <tr>\n",
       "      <th>mean</th>\n",
       "      <td>8.319637</td>\n",
       "      <td>0.527821</td>\n",
       "      <td>0.270976</td>\n",
       "      <td>2.538806</td>\n",
       "      <td>0.087467</td>\n",
       "      <td>15.874922</td>\n",
       "      <td>46.467792</td>\n",
       "      <td>0.996747</td>\n",
       "      <td>3.311113</td>\n",
       "      <td>0.658149</td>\n",
       "      <td>10.422983</td>\n",
       "      <td>5.636023</td>\n",
       "    </tr>\n",
       "    <tr>\n",
       "      <th>std</th>\n",
       "      <td>1.741096</td>\n",
       "      <td>0.179060</td>\n",
       "      <td>0.194801</td>\n",
       "      <td>1.409928</td>\n",
       "      <td>0.047065</td>\n",
       "      <td>10.460157</td>\n",
       "      <td>32.895324</td>\n",
       "      <td>0.001887</td>\n",
       "      <td>0.154386</td>\n",
       "      <td>0.169507</td>\n",
       "      <td>1.065668</td>\n",
       "      <td>0.807569</td>\n",
       "    </tr>\n",
       "    <tr>\n",
       "      <th>min</th>\n",
       "      <td>4.600000</td>\n",
       "      <td>0.120000</td>\n",
       "      <td>0.000000</td>\n",
       "      <td>0.900000</td>\n",
       "      <td>0.012000</td>\n",
       "      <td>1.000000</td>\n",
       "      <td>6.000000</td>\n",
       "      <td>0.990070</td>\n",
       "      <td>2.740000</td>\n",
       "      <td>0.330000</td>\n",
       "      <td>8.400000</td>\n",
       "      <td>3.000000</td>\n",
       "    </tr>\n",
       "    <tr>\n",
       "      <th>25%</th>\n",
       "      <td>7.100000</td>\n",
       "      <td>0.390000</td>\n",
       "      <td>0.090000</td>\n",
       "      <td>1.900000</td>\n",
       "      <td>0.070000</td>\n",
       "      <td>7.000000</td>\n",
       "      <td>22.000000</td>\n",
       "      <td>0.995600</td>\n",
       "      <td>3.210000</td>\n",
       "      <td>0.550000</td>\n",
       "      <td>9.500000</td>\n",
       "      <td>5.000000</td>\n",
       "    </tr>\n",
       "    <tr>\n",
       "      <th>50%</th>\n",
       "      <td>7.900000</td>\n",
       "      <td>0.520000</td>\n",
       "      <td>0.260000</td>\n",
       "      <td>2.200000</td>\n",
       "      <td>0.079000</td>\n",
       "      <td>14.000000</td>\n",
       "      <td>38.000000</td>\n",
       "      <td>0.996750</td>\n",
       "      <td>3.310000</td>\n",
       "      <td>0.620000</td>\n",
       "      <td>10.200000</td>\n",
       "      <td>6.000000</td>\n",
       "    </tr>\n",
       "    <tr>\n",
       "      <th>75%</th>\n",
       "      <td>9.200000</td>\n",
       "      <td>0.640000</td>\n",
       "      <td>0.420000</td>\n",
       "      <td>2.600000</td>\n",
       "      <td>0.090000</td>\n",
       "      <td>21.000000</td>\n",
       "      <td>62.000000</td>\n",
       "      <td>0.997835</td>\n",
       "      <td>3.400000</td>\n",
       "      <td>0.730000</td>\n",
       "      <td>11.100000</td>\n",
       "      <td>6.000000</td>\n",
       "    </tr>\n",
       "    <tr>\n",
       "      <th>max</th>\n",
       "      <td>15.900000</td>\n",
       "      <td>1.580000</td>\n",
       "      <td>1.000000</td>\n",
       "      <td>15.500000</td>\n",
       "      <td>0.611000</td>\n",
       "      <td>72.000000</td>\n",
       "      <td>289.000000</td>\n",
       "      <td>1.003690</td>\n",
       "      <td>4.010000</td>\n",
       "      <td>2.000000</td>\n",
       "      <td>14.900000</td>\n",
       "      <td>8.000000</td>\n",
       "    </tr>\n",
       "  </tbody>\n",
       "</table>\n",
       "</div>"
      ],
      "text/plain": [
       "       fixed acidity  volatile acidity  citric acid  residual sugar  \\\n",
       "count    1599.000000       1599.000000  1599.000000     1599.000000   \n",
       "mean        8.319637          0.527821     0.270976        2.538806   \n",
       "std         1.741096          0.179060     0.194801        1.409928   \n",
       "min         4.600000          0.120000     0.000000        0.900000   \n",
       "25%         7.100000          0.390000     0.090000        1.900000   \n",
       "50%         7.900000          0.520000     0.260000        2.200000   \n",
       "75%         9.200000          0.640000     0.420000        2.600000   \n",
       "max        15.900000          1.580000     1.000000       15.500000   \n",
       "\n",
       "         chlorides  free sulfur dioxide  total sulfur dioxide      density  \\\n",
       "count  1599.000000          1599.000000           1599.000000  1599.000000   \n",
       "mean      0.087467            15.874922             46.467792     0.996747   \n",
       "std       0.047065            10.460157             32.895324     0.001887   \n",
       "min       0.012000             1.000000              6.000000     0.990070   \n",
       "25%       0.070000             7.000000             22.000000     0.995600   \n",
       "50%       0.079000            14.000000             38.000000     0.996750   \n",
       "75%       0.090000            21.000000             62.000000     0.997835   \n",
       "max       0.611000            72.000000            289.000000     1.003690   \n",
       "\n",
       "                pH    sulphates      alcohol      quality  \n",
       "count  1599.000000  1599.000000  1599.000000  1599.000000  \n",
       "mean      3.311113     0.658149    10.422983     5.636023  \n",
       "std       0.154386     0.169507     1.065668     0.807569  \n",
       "min       2.740000     0.330000     8.400000     3.000000  \n",
       "25%       3.210000     0.550000     9.500000     5.000000  \n",
       "50%       3.310000     0.620000    10.200000     6.000000  \n",
       "75%       3.400000     0.730000    11.100000     6.000000  \n",
       "max       4.010000     2.000000    14.900000     8.000000  "
      ]
     },
     "execution_count": 2,
     "metadata": {},
     "output_type": "execute_result"
    }
   ],
   "source": [
    "df.describe()"
   ]
  },
  {
   "cell_type": "code",
   "execution_count": 3,
   "id": "f63eebf6",
   "metadata": {
    "tags": []
   },
   "outputs": [
    {
     "name": "stdout",
     "output_type": "stream",
     "text": [
      "<class 'pandas.core.frame.DataFrame'>\n",
      "RangeIndex: 1599 entries, 0 to 1598\n",
      "Data columns (total 12 columns):\n",
      " #   Column                Non-Null Count  Dtype  \n",
      "---  ------                --------------  -----  \n",
      " 0   fixed acidity         1599 non-null   float64\n",
      " 1   volatile acidity      1599 non-null   float64\n",
      " 2   citric acid           1599 non-null   float64\n",
      " 3   residual sugar        1599 non-null   float64\n",
      " 4   chlorides             1599 non-null   float64\n",
      " 5   free sulfur dioxide   1599 non-null   float64\n",
      " 6   total sulfur dioxide  1599 non-null   float64\n",
      " 7   density               1599 non-null   float64\n",
      " 8   pH                    1599 non-null   float64\n",
      " 9   sulphates             1599 non-null   float64\n",
      " 10  alcohol               1599 non-null   float64\n",
      " 11  quality               1599 non-null   int64  \n",
      "dtypes: float64(11), int64(1)\n",
      "memory usage: 150.0 KB\n"
     ]
    }
   ],
   "source": [
    "df.info()"
   ]
  },
  {
   "cell_type": "code",
   "execution_count": 4,
   "id": "f81eb631",
   "metadata": {
    "tags": []
   },
   "outputs": [
    {
     "data": {
      "text/plain": [
       "<Axes: >"
      ]
     },
     "execution_count": 4,
     "metadata": {},
     "output_type": "execute_result"
    },
    {
     "data": {
      "image/png": "[encoded data removed]",
      "text/plain": [
       "<Figure size 640x480 with 2 Axes>"
      ]
     },
     "metadata": {},
     "output_type": "display_data"
    }
   ],
   "source": [
    "import seaborn as sns\n",
    "sns.heatmap(df.corr(), annot=True)"
   ]
  },
  {
   "cell_type": "code",
   "execution_count": 5,
   "id": "dc7cd58e",
   "metadata": {
    "tags": []
   },
   "outputs": [
    {
     "data": {
      "text/plain": [
       "<Axes: xlabel='quality', ylabel='count'>"
      ]
     },
     "execution_count": 5,
     "metadata": {},
     "output_type": "execute_result"
    },
    {
     "data": {
      "image/png": "[encoded data removed]",
      "text/plain": [
       "<Figure size 640x480 with 1 Axes>"
      ]
     },
     "metadata": {},
     "output_type": "display_data"
    }
   ],
   "source": [
    "sns.countplot(data=df, x='quality')"
   ]
  },
  {
   "cell_type": "markdown",
   "id": "be3383c8",
   "metadata": {},
   "source": [
    "# Split data into train/valid/test"
   ]
  },
  {
   "cell_type": "code",
   "execution_count": 6,
   "id": "9cd4a059",
   "metadata": {
    "tags": []
   },
   "outputs": [],
   "source": [
    "X = df.iloc[:,:-1]\n",
    "Y = df.iloc[:,-1]\n",
    "\n",
    "train_x, ee_x, train_y, ee_y = train_test_split(X, Y, test_size=0.3, random_state=42)\n",
    "valid_x, test_x, valid_y, test_y = train_test_split(ee_x, ee_y, test_size=0.5, random_state=42)\n"
   ]
  },
  {
   "cell_type": "markdown",
   "id": "e73a17ca-b173-4004-8a57-f3937c7b1839",
   "metadata": {},
   "source": [
    "## Visualising the shape of data"
   ]
  },
  {
   "cell_type": "code",
   "execution_count": 7,
   "id": "f710790a",
   "metadata": {
    "tags": []
   },
   "outputs": [
    {
     "name": "stdout",
     "output_type": "stream",
     "text": [
      "(1119, 11)\n",
      "(1119,)\n",
      "(480, 11)\n",
      "(480,)\n"
     ]
    }
   ],
   "source": [
    "print(train_x.shape)\n",
    "print(train_y.shape)\n",
    "print(ee_x.shape)\n",
    "print(ee_y.shape)\n"
   ]
  },
  {
   "cell_type": "code",
   "execution_count": 8,
   "id": "37461703",
   "metadata": {
    "tags": []
   },
   "outputs": [
    {
     "name": "stdout",
     "output_type": "stream",
     "text": [
      "(240, 11)\n",
      "(240,)\n",
      "(240, 11)\n",
      "(240,)\n"
     ]
    }
   ],
   "source": [
    "print(valid_x.shape)\n",
    "print(valid_y.shape)\n",
    "print(test_x.shape)\n",
    "print(test_y.shape)\n"
   ]
  },
  {
   "cell_type": "markdown",
   "id": "446d4eb8",
   "metadata": {},
   "source": [
    "# Move data to PyTorch ecosystem -> to tensor"
   ]
  },
  {
   "cell_type": "code",
   "execution_count": 9,
   "id": "7fa9cbb1",
   "metadata": {
    "tags": []
   },
   "outputs": [],
   "source": [
    "import torch\n",
    "\n",
    "train_x = torch.tensor(train_x.to_numpy()).float()\n",
    "valid_x = torch.tensor(valid_x.to_numpy()).float()\n",
    "test_x = torch.tensor(test_x.to_numpy()).float()\n"
   ]
  },
  {
   "cell_type": "code",
   "execution_count": 10,
   "id": "ccac9a07-710a-4857-9cc0-2abeffc95393",
   "metadata": {
    "tags": []
   },
   "outputs": [],
   "source": [
    "train_y = torch.tensor(train_y.to_numpy().reshape(-1, 1))\n",
    "valid_y = torch.tensor(valid_y.to_numpy().reshape(-1, 1))\n",
    "test_y = torch.tensor(test_y.to_numpy().reshape(-1, 1))\n",
    "\n",
    "train_y = train_y.float()\n",
    "valid_y = valid_y.float()\n",
    "test_y = test_y.float()\n"
   ]
  },
  {
   "cell_type": "code",
   "execution_count": 11,
   "id": "e614c53c-cec4-4322-87bf-34807a86f0af",
   "metadata": {
    "tags": []
   },
   "outputs": [
    {
     "data": {
      "text/plain": [
       "tensor([[7.],\n",
       "        [5.],\n",
       "        [5.],\n",
       "        ...,\n",
       "        [5.],\n",
       "        [7.],\n",
       "        [6.]])"
      ]
     },
     "execution_count": 11,
     "metadata": {},
     "output_type": "execute_result"
    }
   ],
   "source": [
    "train_y\n"
   ]
  },
  {
   "cell_type": "code",
   "execution_count": 12,
   "id": "97bd329e",
   "metadata": {
    "tags": []
   },
   "outputs": [],
   "source": [
    "from torch.utils.data import Dataset\n",
    "class WineDataset(Dataset):\n",
    "    def __init__(self, X, y):\n",
    "        self.x = X\n",
    "        self.y = y\n",
    "\n",
    "    def __getitem__(self, idx):\n",
    "        return self.x[idx], self.y[idx]\n",
    "    \n",
    "    def __len__(self):\n",
    "        return len(self.x)\n"
   ]
  },
  {
   "cell_type": "markdown",
   "id": "8cf6f0e5-d22b-4ee4-a5f0-bf21fb3048db",
   "metadata": {},
   "source": [
    "## Create the datasets\n"
   ]
  },
  {
   "cell_type": "code",
   "execution_count": 13,
   "id": "c2417e7d",
   "metadata": {
    "tags": []
   },
   "outputs": [],
   "source": [
    "train_data = WineDataset(train_x, train_y)\n",
    "valid_data = WineDataset(valid_x, valid_y)\n",
    "test_data = WineDataset(test_x, test_y)\n"
   ]
  },
  {
   "cell_type": "markdown",
   "id": "fa2d3aac-251f-4d95-8c8f-15655c23e09f",
   "metadata": {},
   "source": [
    "## Create the trainloader"
   ]
  },
  {
   "cell_type": "code",
   "execution_count": 14,
   "id": "8f0134d9",
   "metadata": {
    "tags": []
   },
   "outputs": [],
   "source": [
    "from torch.utils.data import DataLoader\n",
    "train_loader = DataLoader(dataset=train_data)"
   ]
  },
  {
   "cell_type": "markdown",
   "id": "465a59e2-affa-4974-9103-6f1134e234b0",
   "metadata": {},
   "source": [
    "## Defining the plot loss curve"
   ]
  },
  {
   "cell_type": "code",
   "execution_count": 15,
   "id": "e32822e3-b3ad-4393-ab27-d402aec0a09e",
   "metadata": {},
   "outputs": [],
   "source": [
    "def plot_loss_curves(epochs, loss_train, loss_valid):\n",
    "    plt.plot(epochs, train_loss, label=\"Train loss\")\n",
    "    plt.plot(epochs, valid_loss, label=\"Valid loss\")\n",
    "    plt.xlabel(\"Epoch\")\n",
    "    plt.ylabel(\"MSE\")\n",
    "    plt.legend()\n",
    "    plt.show()\n",
    "\n"
   ]
  },
  {
   "cell_type": "markdown",
   "id": "8febbd65",
   "metadata": {},
   "source": [
    "# Regular Wine MLP"
   ]
  },
  {
   "cell_type": "code",
   "execution_count": 16,
   "id": "2a87819f",
   "metadata": {
    "tags": []
   },
   "outputs": [],
   "source": [
    "class WineMLP(torch.nn.Module):\n",
    "    def __init__(self, n_inputs, hidden_size, n_outputs):\n",
    "        super(WineMLP, self).__init__()\n",
    "        self.inputs = n_inputs\n",
    "        self.hidden = hidden_size\n",
    "        self.outputs = n_outputs\n",
    "        \n",
    "        self.linear1 = torch.nn.Linear(self.inputs, self.hidden)\n",
    "        self.linear2 = torch.nn.Linear(self.hidden, self.outputs)\n",
    "        \n",
    "        self.relu = torch.nn.ReLU()\n",
    "        \n",
    "    def forward(self, X):\n",
    "        out = self.linear1(X)\n",
    "        out = self.relu(out)\n",
    "        out = self.linear2(out)\n",
    "        return out"
   ]
  },
  {
   "cell_type": "code",
   "execution_count": 17,
   "id": "2f7dbe13",
   "metadata": {
    "tags": []
   },
   "outputs": [
    {
     "data": {
      "text/plain": [
       "11"
      ]
     },
     "execution_count": 17,
     "metadata": {},
     "output_type": "execute_result"
    }
   ],
   "source": [
    "train_x.shape[1]"
   ]
  },
  {
   "cell_type": "code",
   "execution_count": 18,
   "id": "2bf14ad1",
   "metadata": {
    "tags": []
   },
   "outputs": [],
   "source": [
    "model = WineMLP(n_inputs=train_x.shape[1], hidden_size=5, n_outputs=1)"
   ]
  },
  {
   "cell_type": "code",
   "execution_count": 19,
   "id": "fec82f8f",
   "metadata": {
    "tags": []
   },
   "outputs": [
    {
     "data": {
      "text/plain": [
       "WineMLP(\n",
       "  (linear1): Linear(in_features=11, out_features=5, bias=True)\n",
       "  (linear2): Linear(in_features=5, out_features=1, bias=True)\n",
       "  (relu): ReLU()\n",
       ")"
      ]
     },
     "execution_count": 19,
     "metadata": {},
     "output_type": "execute_result"
    }
   ],
   "source": [
    "model"
   ]
  },
  {
   "cell_type": "code",
   "execution_count": 20,
   "id": "c4381009",
   "metadata": {
    "tags": []
   },
   "outputs": [],
   "source": [
    "LEARNING_RATE = 0.0001\n",
    "\n",
    "criterion = torch.nn.MSELoss()\n",
    "optimiser = torch.optim.SGD(params=model.parameters(), lr=LEARNING_RATE, momentum=0.7)"
   ]
  },
  {
   "cell_type": "code",
   "execution_count": 21,
   "id": "95c59591",
   "metadata": {
    "tags": []
   },
   "outputs": [],
   "source": [
    "# Training the model\n",
    "def MLPtraining (epochs, model, train_loader, valid_x, valid_y, optimiser, criterion):\n",
    "    epochs = 100\n",
    "\n",
    "    loss_valid = []\n",
    "    loss_train = []\n",
    "\n",
    "    for epoch in range(epochs):\n",
    "        model.train()\n",
    "        # Batch the data\n",
    "        epoch_loss_train = []\n",
    "        for features, targets in train_loader:\n",
    "            output = model.forward(features) \n",
    "            loss = criterion(output, targets)\n",
    "            epoch_loss_train.append(loss.item())\n",
    "            optimiser.zero_grad() \n",
    "            loss.backward()\n",
    "            optimiser.step()\n",
    "        \n",
    "        loss_train.append(sum(epoch_loss_train) / len(epoch_loss_train))\n",
    "        model.eval() \n",
    "        valid_hyp = model.forward(valid_x)\n",
    "        loss_valid.append(criterion(valid_hyp, valid_y).item())\n",
    "        # c = torch.argmax(valid_hyp.data, dim=1)\n",
    "        print(loss_train[-1], loss_valid[-1])\n",
    "    return loss_train, loss_valid\n"
   ]
  },
  {
   "cell_type": "code",
   "execution_count": 22,
   "id": "d67dcc9c-2fbb-4eca-8bef-80bfb794141f",
   "metadata": {
    "tags": []
   },
   "outputs": [
    {
     "name": "stdout",
     "output_type": "stream",
     "text": [
      "1.9554649830955582 0.5904074311256409\n",
      "0.7525516665129391 0.525549054145813\n",
      "0.7013237022753407 0.5002893209457397\n",
      "0.6775405369371336 0.48765215277671814\n",
      "0.6629437351919933 0.4758298993110657\n",
      "0.6528149456511554 0.4723531901836395\n",
      "0.646495388306079 0.47036978602409363\n",
      "0.6407183212284628 0.4686466455459595\n",
      "0.6363543759806752 0.4678157866001129\n",
      "0.632778827097891 0.4668825566768646\n",
      "0.630038893952325 0.4663631319999695\n",
      "0.6267881260260485 0.4662927985191345\n",
      "0.6250111558177255 0.4656204879283905\n",
      "0.6219225207552448 0.46523207426071167\n",
      "0.6196136350984905 0.465395450592041\n",
      "0.6173502526457458 0.46569570899009705\n",
      "0.6154407294462523 0.46556997299194336\n",
      "0.6140011053678535 0.4651782214641571\n",
      "0.6133157580348955 0.4658598005771637\n",
      "0.6103694327111331 0.46377500891685486\n",
      "0.6097503794612993 0.4635424315929413\n",
      "0.6103510221161724 0.4657188951969147\n",
      "0.6081472795624063 0.4632798433303833\n",
      "0.6069465772176038 0.4631575345993042\n",
      "0.6044967452290353 0.4629191756248474\n",
      "0.6050393061850337 0.46291103959083557\n",
      "0.6030501289850202 0.4624679684638977\n",
      "0.6019068023787376 0.46254265308380127\n",
      "0.6013653754353377 0.4620560109615326\n",
      "0.6005182350718136 0.4617599546909332\n",
      "0.6006125192932174 0.4619031250476837\n",
      "0.6005083722139188 0.46163222193717957\n",
      "0.5990785755492157 0.4614986479282379\n",
      "0.5984770057589495 0.4612690508365631\n",
      "0.5980319475065887 0.4608630836009979\n",
      "0.5961793706505422 0.4607527554035187\n",
      "0.5955303458738958 0.46042606234550476\n",
      "0.5961240972693153 0.46015769243240356\n",
      "0.5953669269194621 0.46049582958221436\n",
      "0.5947123698433564 0.46012696623802185\n",
      "0.5942561928869705 0.45968398451805115\n",
      "0.59341546486166 0.4594763517379761\n",
      "0.5927841496050513 0.4592669904232025\n",
      "0.5922162845593617 0.45892953872680664\n",
      "0.5918534293566741 0.4587059020996094\n",
      "0.5917101807808147 0.4587356448173523\n",
      "0.5910969788718352 0.4585566818714142\n",
      "0.5904969762357 0.4583739638328552\n",
      "0.5899079881153593 0.4581865072250366\n",
      "0.5893239024343391 0.4579981565475464\n",
      "0.5878676347789912 0.45784425735473633\n",
      "0.5873889093738571 0.4575212299823761\n",
      "0.5870193938826781 0.4575296938419342\n",
      "0.5868504157649681 0.45751670002937317\n",
      "0.5866190136568088 0.4569299519062042\n",
      "0.5858011861833274 0.4571267068386078\n",
      "0.5855538106672934 0.4565538465976715\n",
      "0.5849256507752054 0.45635080337524414\n",
      "0.5848095194852095 0.4565075933933258\n",
      "0.5841851133491943 0.4562915861606598\n",
      "0.5837917878333877 0.4562080502510071\n",
      "0.5831715249694607 0.4559720456600189\n",
      "0.5826019088793557 0.4558282196521759\n",
      "0.5821026926684986 0.45567166805267334\n",
      "0.5816057509885872 0.4555123448371887\n",
      "0.5801197746379049 0.45516034960746765\n",
      "0.580632212657681 0.45516297221183777\n",
      "0.579166675278264 0.4548436105251312\n",
      "0.5796693612383609 0.4548448622226715\n",
      "0.5782131319977654 0.4545339345932007\n",
      "0.5781257640557171 0.45463135838508606\n",
      "0.5771838177516246 0.4545220136642456\n",
      "0.5772265029002371 0.45436903834342957\n",
      "0.576773407808181 0.45422255992889404\n",
      "0.5763181680400069 0.4540747106075287\n",
      "0.5758649339782647 0.4539279043674469\n",
      "0.5754141064172902 0.4537828266620636\n",
      "0.5749658714050198 0.4536401629447937\n",
      "0.574520407204627 0.45349982380867004\n",
      "0.574077589600343 0.45336195826530457\n",
      "0.5736374795826703 0.4532264471054077\n",
      "0.573200129244063 0.45309320092201233\n",
      "0.5727654478490476 0.4529622197151184\n",
      "0.5723335349952758 0.45283347368240356\n",
      "0.5719042272941693 0.45270684361457825\n",
      "0.5714776063774192 0.45258235931396484\n",
      "0.5710511134083757 0.4524305760860443\n",
      "0.5706383510984134 0.45231562852859497\n",
      "0.570223475832637 0.45219892263412476\n",
      "0.5703844059368038 0.4521937370300293\n",
      "0.5694230615940841 0.4520013630390167\n",
      "0.5695852656503632 0.4519769549369812\n",
      "0.5686193712728339 0.45178207755088806\n",
      "0.5687876234276467 0.4517554044723511\n",
      "0.568184412466478 0.45206418633461\n",
      "0.5677376387076396 0.4520711302757263\n",
      "0.5673487763298873 0.45205482840538025\n",
      "0.5669609127130918 0.4520225524902344\n",
      "0.5665745471167585 0.45197874307632446\n",
      "0.5661898253265514 0.45192644000053406\n"
     ]
    }
   ],
   "source": [
    "epochs = 100\n",
    "loss_train, loss_valid = MLPtraining (epochs, model, train_loader, valid_x, valid_y, optimiser, criterion)"
   ]
  },
  {
   "cell_type": "code",
   "execution_count": 23,
   "id": "4a015e33",
   "metadata": {
    "tags": []
   },
   "outputs": [
    {
     "data": {
      "image/png": "[encoded data removed]",
      "text/plain": [
       "<Figure size 640x480 with 1 Axes>"
      ]
     },
     "metadata": {},
     "output_type": "display_data"
    }
   ],
   "source": [
    "import matplotlib.pyplot as plt\n",
    "import numpy as np\n",
    "\n",
    "def plot_loss_curves(epochs, loss_train, loss_valid):\n",
    "    plt.plot(epochs, loss_train, label='Train Loss')\n",
    "    plt.plot(epochs, loss_valid, label='Validation Loss')\n",
    "    plt.xlabel('Epochs')\n",
    "    plt.ylabel('Cross Entropy Loss')\n",
    "    plt.legend()\n",
    "    plt.show()\n",
    "\n",
    "\n",
    "plot_loss_curves(np.linspace(1, epochs, epochs).astype(int), loss_train, loss_valid)"
   ]
  },
  {
   "cell_type": "code",
   "execution_count": 24,
   "id": "f744f843-89ae-4a35-ab89-38161d142d5c",
   "metadata": {
    "tags": []
   },
   "outputs": [],
   "source": [
    "test_output = model.forward(test_x)"
   ]
  },
  {
   "cell_type": "code",
   "execution_count": 25,
   "id": "fa46781e-199d-4e64-9244-7c1e96497fb5",
   "metadata": {},
   "outputs": [
    {
     "name": "stdout",
     "output_type": "stream",
     "text": [
      "The MSE of regular MLP is... 0.4791671931743622\n"
     ]
    }
   ],
   "source": [
    "# Final validation loss is around ~ 0.49\n",
    "regular_mse = criterion(test_output, test_y)\n",
    "print(\"The MSE of regular MLP is...\", regular_mse.item())\n"
   ]
  },
  {
   "cell_type": "code",
   "execution_count": null,
   "id": "2dc7b19c-740a-47fa-8a47-d7c5f074e4b3",
   "metadata": {
    "tags": []
   },
   "outputs": [],
   "source": []
  },
  {
   "cell_type": "markdown",
   "id": "6901e1dc",
   "metadata": {},
   "source": [
    "# -----------------------\n",
    "# PERFORMANCE ENHANCEMENT\n",
    "# -----------------------"
   ]
  },
  {
   "cell_type": "markdown",
   "id": "0bc0e73e-7a7e-40fb-a0da-b2e1420eae15",
   "metadata": {
    "tags": []
   },
   "source": [
    "## We will be carrying out some enhancements by modifying the parameters of the model and normalising the data"
   ]
  },
  {
   "cell_type": "code",
   "execution_count": 26,
   "id": "e1f94aac-547b-4c9d-ab0b-d2a098a56fed",
   "metadata": {},
   "outputs": [],
   "source": [
    "### There were various adjustments done which led to the final enhanced model.\n",
    "# Those adjustments were done on below \n",
    "# - Learning rate\n",
    "# - Hidden layers\n",
    "# - Activation functions such as Leaky Relu, Relu, Sigmoid\n",
    "# - Epocs count\n",
    "\n",
    "# Since Relu performed the best, so other activations were dropped.\n",
    "\n",
    "\n",
    "# Normalising the data led to a significant enhancement in the performance.\n",
    "\n",
    "# On an average, the enhanced model performed 15% better than the regula one with significantly 20% reduction in MSE at some places."
   ]
  },
  {
   "cell_type": "code",
   "execution_count": 27,
   "id": "99f6e205-b2bf-4af1-9b56-4d1da1f1d319",
   "metadata": {
    "tags": []
   },
   "outputs": [],
   "source": [
    "from sklearn.preprocessing import StandardScaler\n",
    "\n",
    "scaler_X_ss = StandardScaler()\n",
    "train_x_ss = scaler_X_ss.fit_transform(train_x)\n",
    "valid_x_ss = scaler_X_ss.transform(valid_x)\n",
    "test_x_ss = scaler_X_ss.transform(test_x)\n",
    "\n",
    "\n"
   ]
  },
  {
   "cell_type": "code",
   "execution_count": 28,
   "id": "d7df6a4d-ae9a-46fb-8567-ca7e00aabfed",
   "metadata": {
    "tags": []
   },
   "outputs": [
    {
     "name": "stdout",
     "output_type": "stream",
     "text": [
      "tensor([[ 1.6954e-01, -1.7211e+00,  4.5930e-01,  ...,  1.0118e+00,\n",
      "          1.2266e+00,  5.5006e-01],\n",
      "        [ 2.4461e+00, -4.0196e-01,  1.8411e+00,  ..., -2.1069e+00,\n",
      "          1.2266e+00, -2.0517e-01],\n",
      "        [-6.4768e-01,  3.7747e-02, -1.2805e-03,  ...,  4.9203e-01,\n",
      "          2.9727e-01,  5.5006e-01],\n",
      "        ...,\n",
      "        [-6.4768e-01,  4.7745e-01, -1.0760e+00,  ...,  1.2717e+00,\n",
      "         -6.9015e-01, -8.6600e-01],\n",
      "        [-2.3907e-01, -1.8310e+00,  4.0813e-01,  ...,  3.7218e-02,\n",
      "          8.2003e-01,  1.3997e+00],\n",
      "        [-1.4649e+00, -1.3363e+00, -5.2457e-02,  ...,  4.9203e-01,\n",
      "         -6.9015e-01,  2.9102e+00]])\n",
      "tensor([[-0.4142,  0.8347, -0.2060,  ..., -0.6775, -0.2836, -1.0548],\n",
      "        [-0.0056,  0.4225,  0.1522,  ...,  0.5570, -0.2836, -0.2052],\n",
      "        [-0.9979,  1.0546, -0.9224,  ...,  0.2321, -0.9806,  0.3612],\n",
      "        ...,\n",
      "        [-0.6477,  0.2026, -1.1272,  ...,  0.4271, -0.3417, -0.1108],\n",
      "        [ 0.9284,  0.3126, -1.0248,  ..., -0.0278,  0.2973, -0.5828],\n",
      "        [ 0.7533, -0.1821,  0.4593,  ..., -0.8724,  0.1230,  0.4557]])\n",
      "tensor([[-1.2898e+00, -2.9203e-01, -9.2245e-01,  ...,  8.8186e-01,\n",
      "         -6.9015e-01,  7.3886e-01],\n",
      "        [-1.2898e+00,  9.9960e-01, -8.7127e-01,  ...,  1.6615e+00,\n",
      "         -9.2249e-01,  1.3997e+00],\n",
      "        [-1.6984e+00, -6.2181e-01, -1.2805e-03,  ...,  3.0260e+00,\n",
      "         -1.0932e-01,  1.7773e+00],\n",
      "        ...,\n",
      "        [ 6.3652e-01, -7.3174e-01,  2.0342e-01,  ..., -1.5871e+00,\n",
      "         -1.6740e-01,  7.8037e-02],\n",
      "        [-1.2314e+00,  1.3843e+00, -1.3830e+00,  ...,  1.7915e+00,\n",
      "         -2.8357e-01, -3.9398e-01],\n",
      "        [-1.5233e+00,  3.6753e-01, -1.3830e+00,  ...,  8.8186e-01,\n",
      "         -5.7399e-01,  1.6829e+00]])\n"
     ]
    }
   ],
   "source": [
    "train_x_ss = torch.tensor(train_x_ss)\n",
    "train_x_ss = train_x_ss.float()\n",
    "valid_x_ss = torch.tensor(valid_x_ss)\n",
    "valid_x_ss = valid_x_ss.float()\n",
    "test_x_ss = torch.tensor(test_x_ss)\n",
    "test_x_ss = test_x_ss.float()\n",
    "print(train_x_ss)\n",
    "print(valid_x_ss)\n",
    "print(test_x_ss)"
   ]
  },
  {
   "cell_type": "code",
   "execution_count": 29,
   "id": "d2127f2c-9ba0-48a2-9f1a-650bd720f2c5",
   "metadata": {
    "tags": []
   },
   "outputs": [],
   "source": [
    "train_data_ss = WineDataset(train_x_ss, train_y)"
   ]
  },
  {
   "cell_type": "code",
   "execution_count": 30,
   "id": "e7e33c00-7548-4e05-83c5-e7c46a606f00",
   "metadata": {
    "tags": []
   },
   "outputs": [],
   "source": [
    "# Shuffle the data when load\n",
    "train_loader_ss = DataLoader(dataset=train_data_ss, batch_size=8, shuffle=True)\n"
   ]
  },
  {
   "cell_type": "markdown",
   "id": "2ae14468",
   "metadata": {},
   "source": [
    "# Enhanced MLP"
   ]
  },
  {
   "cell_type": "code",
   "execution_count": 31,
   "id": "6eb0f3de",
   "metadata": {
    "tags": []
   },
   "outputs": [],
   "source": [
    "class EnhancedWineMLP(torch.nn.Module):\n",
    "    def __init__(self, n_inputs, hidden_size, n_outputs, activation='relu'):\n",
    "        super(EnhancedWineMLP, self).__init__()\n",
    "        self.input = n_inputs\n",
    "        self.hidden = hidden_size\n",
    "        self.outputs = n_outputs\n",
    "\n",
    "        self.fc1 = torch.nn.Linear(self.input, self.hidden)\n",
    "        self.fc2 = torch.nn.Linear(self.hidden, self.hidden)\n",
    "        self.fc3 = torch.nn.Linear(self.hidden, self.outputs)\n",
    "\n",
    "        # Activation function selection\n",
    "        if activation == 'sigmoid':\n",
    "            self.activation = torch.nn.Sigmoid()\n",
    "        else:\n",
    "            self.activation = torch.nn.ReLU()\n",
    "\n",
    "    def forward(self, X):\n",
    "        out = self.fc1(X)\n",
    "        out = self.activation(out)\n",
    "        out = self.fc2(out)\n",
    "        out = self.activation(out)\n",
    "        out = self.fc3(out)\n",
    "        return out\n"
   ]
  },
  {
   "cell_type": "code",
   "execution_count": 32,
   "id": "741123d5-496a-4602-9507-dfee8b1ddef2",
   "metadata": {
    "tags": []
   },
   "outputs": [],
   "source": [
    "def EnhancedMLPtraining(epochs, model, train_loader, valid_x, valid_y, optimiser, criterion):\n",
    "    train_loss = []\n",
    "    valid_loss = []\n",
    "\n",
    "    for epoch in range(epochs):\n",
    "        batch_loss = []\n",
    "        for features, targets in train_loader:\n",
    "            output = model.forward(features)\n",
    "            loss = criterion(output, targets)\n",
    "            batch_loss.append(loss.item())\n",
    "            optimiser.zero_grad()  \n",
    "            loss.backward() \n",
    "            optimiser.step() \n",
    "        train_loss.append(sum(batch_loss) / len(batch_loss))\n",
    "\n",
    "        hyp_valid = model.forward(valid_x)\n",
    "        epoch_valid_loss = criterion(hyp_valid, valid_y).item()\n",
    "        valid_loss.append(epoch_valid_loss)\n",
    "        \n",
    "        if epoch % 100 == 0:\n",
    "            print(\"Epoch :\" + str(epoch), end=\", \")\n",
    "            print(\"Valid loss:\", valid_loss[-1])\n",
    "\n",
    "    return train_loss, valid_loss\n"
   ]
  },
  {
   "cell_type": "code",
   "execution_count": 33,
   "id": "c2e29991-0bce-41f2-bdaa-3e892a8285ba",
   "metadata": {
    "tags": []
   },
   "outputs": [
    {
     "data": {
      "text/plain": [
       "EnhancedWineMLP(\n",
       "  (fc1): Linear(in_features=11, out_features=5, bias=True)\n",
       "  (fc2): Linear(in_features=5, out_features=5, bias=True)\n",
       "  (fc3): Linear(in_features=5, out_features=1, bias=True)\n",
       "  (activation): ReLU()\n",
       ")"
      ]
     },
     "execution_count": 33,
     "metadata": {},
     "output_type": "execute_result"
    }
   ],
   "source": [
    "### MODEL 1 ###\n",
    "\n",
    "activation = \"relu\"\n",
    "hidden_nodes = 5\n",
    "model = EnhancedWineMLP(11, hidden_nodes, 1, activation)\n",
    "model\n"
   ]
  },
  {
   "cell_type": "code",
   "execution_count": 34,
   "id": "84c078a1",
   "metadata": {
    "tags": []
   },
   "outputs": [],
   "source": [
    "criterion = torch.nn.MSELoss()\n",
    "optimiser = torch.optim.SGD(params=model.parameters(), lr=0.0001, momentum=0.1)\n"
   ]
  },
  {
   "cell_type": "code",
   "execution_count": 35,
   "id": "c5d0768a",
   "metadata": {
    "tags": []
   },
   "outputs": [
    {
     "name": "stdout",
     "output_type": "stream",
     "text": [
      "Epoch :0, Valid loss: 26.896121978759766\n",
      "Epoch :100, Valid loss: 0.4379267692565918\n",
      "Epoch :200, Valid loss: 0.4155716598033905\n",
      "Epoch :300, Valid loss: 0.4059930145740509\n",
      "Epoch :400, Valid loss: 0.4012817442417145\n",
      "Epoch :500, Valid loss: 0.39832645654678345\n",
      "Epoch :600, Valid loss: 0.3965730667114258\n",
      "Epoch :700, Valid loss: 0.39544016122817993\n",
      "Epoch :800, Valid loss: 0.3944990932941437\n",
      "Epoch :900, Valid loss: 0.3932735025882721\n"
     ]
    }
   ],
   "source": [
    "epochs = 1000\n",
    "train_loss, valid_loss = EnhancedMLPtraining (epochs, model, train_loader_ss, valid_x_ss, valid_y, optimiser, criterion)\n"
   ]
  },
  {
   "cell_type": "code",
   "execution_count": 36,
   "id": "766816f6-41c5-48ac-ac0d-4139aa37b474",
   "metadata": {
    "tags": []
   },
   "outputs": [
    {
     "data": {
      "image/png": "[encoded data removed]",
      "text/plain": [
       "<Figure size 640x480 with 1 Axes>"
      ]
     },
     "metadata": {},
     "output_type": "display_data"
    }
   ],
   "source": [
    "plot_loss_curves(np.linspace(1, epochs, epochs), train_loss, valid_loss)\n"
   ]
  },
  {
   "cell_type": "code",
   "execution_count": 43,
   "id": "962f6fb5-6b92-4568-8a9a-2c827aa22b99",
   "metadata": {
    "tags": []
   },
   "outputs": [
    {
     "name": "stdout",
     "output_type": "stream",
     "text": [
      "The MSE of test set is... 0.3997116684913635\n"
     ]
    }
   ],
   "source": [
    "test_output = model.forward(test_x_ss)\n",
    "enhanced_mse = criterion(test_output, test_y)\n",
    "print(\"The MSE of test set is...\", mse_test_tuned.item())\n"
   ]
  },
  {
   "cell_type": "code",
   "execution_count": 38,
   "id": "f58c26be-88ec-4446-8d1d-b696d68f3fa1",
   "metadata": {},
   "outputs": [],
   "source": [
    "## As we can see that after some iterations the loss tends to increase. So this mentod is dropped"
   ]
  },
  {
   "cell_type": "markdown",
   "id": "20e56662",
   "metadata": {},
   "source": [
    "## We can see that by adjusting the number of Epochs while adding another hidden layer andnormlaising led to a significant improvement in the model performance."
   ]
  },
  {
   "cell_type": "code",
   "execution_count": 42,
   "id": "bf495227-ab5f-465e-a1c2-b07e30fdca94",
   "metadata": {
    "tags": []
   },
   "outputs": [
    {
     "name": "stdout",
     "output_type": "stream",
     "text": [
      "Improvement percentage: 16.58%\n"
     ]
    }
   ],
   "source": [
    "performance_improvement = (regular_mse.item() - enhanced_mse.item()) / regular_mse.item() * 100\n",
    "print(f\"Improvement percentage... {performance_improvement:.2f}%\")\n"
   ]
  }
 ],
 "metadata": {
  "kernelspec": {
   "display_name": "Python 3 (ipykernel)",
   "language": "python",
   "name": "python3"
  },
  "language_info": {
   "codemirror_mode": {
    "name": "ipython",
    "version": 3
   },
   "file_extension": ".py",
   "mimetype": "text/x-python",
   "name": "python",
   "nbconvert_exporter": "python",
   "pygments_lexer": "ipython3",
   "version": "3.11.4"
  }
 },
 "nbformat": 4,
 "nbformat_minor": 5
}
