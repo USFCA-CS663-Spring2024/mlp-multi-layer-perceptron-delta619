{
 "cells": [
  {
   "cell_type": "markdown",
   "id": "a42c791d",
   "metadata": {},
   "source": [
    "# Dataset - Diamond quality prediction"
   ]
  },
  {
   "cell_type": "code",
   "execution_count": 63,
   "id": "23182f0d",
   "metadata": {},
   "outputs": [
    {
     "data": {
      "text/html": [
       "<div>\n",
       "<style scoped>\n",
       "    .dataframe tbody tr th:only-of-type {\n",
       "        vertical-align: middle;\n",
       "    }\n",
       "\n",
       "    .dataframe tbody tr th {\n",
       "        vertical-align: top;\n",
       "    }\n",
       "\n",
       "    .dataframe thead th {\n",
       "        text-align: right;\n",
       "    }\n",
       "</style>\n",
       "<table border=\"1\" class=\"dataframe\">\n",
       "  <thead>\n",
       "    <tr style=\"text-align: right;\">\n",
       "      <th></th>\n",
       "      <th>fixed acidity</th>\n",
       "      <th>volatile acidity</th>\n",
       "      <th>citric acid</th>\n",
       "      <th>residual sugar</th>\n",
       "      <th>chlorides</th>\n",
       "      <th>free sulfur dioxide</th>\n",
       "      <th>total sulfur dioxide</th>\n",
       "      <th>density</th>\n",
       "      <th>pH</th>\n",
       "      <th>sulphates</th>\n",
       "      <th>alcohol</th>\n",
       "      <th>quality</th>\n",
       "    </tr>\n",
       "  </thead>\n",
       "  <tbody>\n",
       "    <tr>\n",
       "      <th>0</th>\n",
       "      <td>7.4</td>\n",
       "      <td>0.700</td>\n",
       "      <td>0.00</td>\n",
       "      <td>1.9</td>\n",
       "      <td>0.076</td>\n",
       "      <td>11.0</td>\n",
       "      <td>34.0</td>\n",
       "      <td>0.99780</td>\n",
       "      <td>3.51</td>\n",
       "      <td>0.56</td>\n",
       "      <td>9.4</td>\n",
       "      <td>5</td>\n",
       "    </tr>\n",
       "    <tr>\n",
       "      <th>1</th>\n",
       "      <td>7.8</td>\n",
       "      <td>0.880</td>\n",
       "      <td>0.00</td>\n",
       "      <td>2.6</td>\n",
       "      <td>0.098</td>\n",
       "      <td>25.0</td>\n",
       "      <td>67.0</td>\n",
       "      <td>0.99680</td>\n",
       "      <td>3.20</td>\n",
       "      <td>0.68</td>\n",
       "      <td>9.8</td>\n",
       "      <td>5</td>\n",
       "    </tr>\n",
       "    <tr>\n",
       "      <th>2</th>\n",
       "      <td>7.8</td>\n",
       "      <td>0.760</td>\n",
       "      <td>0.04</td>\n",
       "      <td>2.3</td>\n",
       "      <td>0.092</td>\n",
       "      <td>15.0</td>\n",
       "      <td>54.0</td>\n",
       "      <td>0.99700</td>\n",
       "      <td>3.26</td>\n",
       "      <td>0.65</td>\n",
       "      <td>9.8</td>\n",
       "      <td>5</td>\n",
       "    </tr>\n",
       "    <tr>\n",
       "      <th>3</th>\n",
       "      <td>11.2</td>\n",
       "      <td>0.280</td>\n",
       "      <td>0.56</td>\n",
       "      <td>1.9</td>\n",
       "      <td>0.075</td>\n",
       "      <td>17.0</td>\n",
       "      <td>60.0</td>\n",
       "      <td>0.99800</td>\n",
       "      <td>3.16</td>\n",
       "      <td>0.58</td>\n",
       "      <td>9.8</td>\n",
       "      <td>6</td>\n",
       "    </tr>\n",
       "    <tr>\n",
       "      <th>4</th>\n",
       "      <td>7.4</td>\n",
       "      <td>0.700</td>\n",
       "      <td>0.00</td>\n",
       "      <td>1.9</td>\n",
       "      <td>0.076</td>\n",
       "      <td>11.0</td>\n",
       "      <td>34.0</td>\n",
       "      <td>0.99780</td>\n",
       "      <td>3.51</td>\n",
       "      <td>0.56</td>\n",
       "      <td>9.4</td>\n",
       "      <td>5</td>\n",
       "    </tr>\n",
       "    <tr>\n",
       "      <th>...</th>\n",
       "      <td>...</td>\n",
       "      <td>...</td>\n",
       "      <td>...</td>\n",
       "      <td>...</td>\n",
       "      <td>...</td>\n",
       "      <td>...</td>\n",
       "      <td>...</td>\n",
       "      <td>...</td>\n",
       "      <td>...</td>\n",
       "      <td>...</td>\n",
       "      <td>...</td>\n",
       "      <td>...</td>\n",
       "    </tr>\n",
       "    <tr>\n",
       "      <th>1594</th>\n",
       "      <td>6.2</td>\n",
       "      <td>0.600</td>\n",
       "      <td>0.08</td>\n",
       "      <td>2.0</td>\n",
       "      <td>0.090</td>\n",
       "      <td>32.0</td>\n",
       "      <td>44.0</td>\n",
       "      <td>0.99490</td>\n",
       "      <td>3.45</td>\n",
       "      <td>0.58</td>\n",
       "      <td>10.5</td>\n",
       "      <td>5</td>\n",
       "    </tr>\n",
       "    <tr>\n",
       "      <th>1595</th>\n",
       "      <td>5.9</td>\n",
       "      <td>0.550</td>\n",
       "      <td>0.10</td>\n",
       "      <td>2.2</td>\n",
       "      <td>0.062</td>\n",
       "      <td>39.0</td>\n",
       "      <td>51.0</td>\n",
       "      <td>0.99512</td>\n",
       "      <td>3.52</td>\n",
       "      <td>0.76</td>\n",
       "      <td>11.2</td>\n",
       "      <td>6</td>\n",
       "    </tr>\n",
       "    <tr>\n",
       "      <th>1596</th>\n",
       "      <td>6.3</td>\n",
       "      <td>0.510</td>\n",
       "      <td>0.13</td>\n",
       "      <td>2.3</td>\n",
       "      <td>0.076</td>\n",
       "      <td>29.0</td>\n",
       "      <td>40.0</td>\n",
       "      <td>0.99574</td>\n",
       "      <td>3.42</td>\n",
       "      <td>0.75</td>\n",
       "      <td>11.0</td>\n",
       "      <td>6</td>\n",
       "    </tr>\n",
       "    <tr>\n",
       "      <th>1597</th>\n",
       "      <td>5.9</td>\n",
       "      <td>0.645</td>\n",
       "      <td>0.12</td>\n",
       "      <td>2.0</td>\n",
       "      <td>0.075</td>\n",
       "      <td>32.0</td>\n",
       "      <td>44.0</td>\n",
       "      <td>0.99547</td>\n",
       "      <td>3.57</td>\n",
       "      <td>0.71</td>\n",
       "      <td>10.2</td>\n",
       "      <td>5</td>\n",
       "    </tr>\n",
       "    <tr>\n",
       "      <th>1598</th>\n",
       "      <td>6.0</td>\n",
       "      <td>0.310</td>\n",
       "      <td>0.47</td>\n",
       "      <td>3.6</td>\n",
       "      <td>0.067</td>\n",
       "      <td>18.0</td>\n",
       "      <td>42.0</td>\n",
       "      <td>0.99549</td>\n",
       "      <td>3.39</td>\n",
       "      <td>0.66</td>\n",
       "      <td>11.0</td>\n",
       "      <td>6</td>\n",
       "    </tr>\n",
       "  </tbody>\n",
       "</table>\n",
       "<p>1599 rows × 12 columns</p>\n",
       "</div>"
      ],
      "text/plain": [
       "      fixed acidity  volatile acidity  citric acid  residual sugar  chlorides  \\\n",
       "0               7.4             0.700         0.00             1.9      0.076   \n",
       "1               7.8             0.880         0.00             2.6      0.098   \n",
       "2               7.8             0.760         0.04             2.3      0.092   \n",
       "3              11.2             0.280         0.56             1.9      0.075   \n",
       "4               7.4             0.700         0.00             1.9      0.076   \n",
       "...             ...               ...          ...             ...        ...   \n",
       "1594            6.2             0.600         0.08             2.0      0.090   \n",
       "1595            5.9             0.550         0.10             2.2      0.062   \n",
       "1596            6.3             0.510         0.13             2.3      0.076   \n",
       "1597            5.9             0.645         0.12             2.0      0.075   \n",
       "1598            6.0             0.310         0.47             3.6      0.067   \n",
       "\n",
       "      free sulfur dioxide  total sulfur dioxide  density    pH  sulphates  \\\n",
       "0                    11.0                  34.0  0.99780  3.51       0.56   \n",
       "1                    25.0                  67.0  0.99680  3.20       0.68   \n",
       "2                    15.0                  54.0  0.99700  3.26       0.65   \n",
       "3                    17.0                  60.0  0.99800  3.16       0.58   \n",
       "4                    11.0                  34.0  0.99780  3.51       0.56   \n",
       "...                   ...                   ...      ...   ...        ...   \n",
       "1594                 32.0                  44.0  0.99490  3.45       0.58   \n",
       "1595                 39.0                  51.0  0.99512  3.52       0.76   \n",
       "1596                 29.0                  40.0  0.99574  3.42       0.75   \n",
       "1597                 32.0                  44.0  0.99547  3.57       0.71   \n",
       "1598                 18.0                  42.0  0.99549  3.39       0.66   \n",
       "\n",
       "      alcohol  quality  \n",
       "0         9.4        5  \n",
       "1         9.8        5  \n",
       "2         9.8        5  \n",
       "3         9.8        6  \n",
       "4         9.4        5  \n",
       "...       ...      ...  \n",
       "1594     10.5        5  \n",
       "1595     11.2        6  \n",
       "1596     11.0        6  \n",
       "1597     10.2        5  \n",
       "1598     11.0        6  \n",
       "\n",
       "[1599 rows x 12 columns]"
      ]
     },
     "execution_count": 63,
     "metadata": {},
     "output_type": "execute_result"
    }
   ],
   "source": [
    "import pandas as pd\n",
    "\n",
    "df = pd.read_csv('winequality-red.csv')\n",
    "df"
   ]
  },
  {
   "cell_type": "code",
   "execution_count": 64,
   "id": "289b357b",
   "metadata": {},
   "outputs": [
    {
     "data": {
      "text/html": [
       "<div>\n",
       "<style scoped>\n",
       "    .dataframe tbody tr th:only-of-type {\n",
       "        vertical-align: middle;\n",
       "    }\n",
       "\n",
       "    .dataframe tbody tr th {\n",
       "        vertical-align: top;\n",
       "    }\n",
       "\n",
       "    .dataframe thead th {\n",
       "        text-align: right;\n",
       "    }\n",
       "</style>\n",
       "<table border=\"1\" class=\"dataframe\">\n",
       "  <thead>\n",
       "    <tr style=\"text-align: right;\">\n",
       "      <th></th>\n",
       "      <th>fixed acidity</th>\n",
       "      <th>volatile acidity</th>\n",
       "      <th>citric acid</th>\n",
       "      <th>residual sugar</th>\n",
       "      <th>chlorides</th>\n",
       "      <th>free sulfur dioxide</th>\n",
       "      <th>total sulfur dioxide</th>\n",
       "      <th>density</th>\n",
       "      <th>pH</th>\n",
       "      <th>sulphates</th>\n",
       "      <th>alcohol</th>\n",
       "      <th>quality</th>\n",
       "    </tr>\n",
       "  </thead>\n",
       "  <tbody>\n",
       "    <tr>\n",
       "      <th>count</th>\n",
       "      <td>1599.000000</td>\n",
       "      <td>1599.000000</td>\n",
       "      <td>1599.000000</td>\n",
       "      <td>1599.000000</td>\n",
       "      <td>1599.000000</td>\n",
       "      <td>1599.000000</td>\n",
       "      <td>1599.000000</td>\n",
       "      <td>1599.000000</td>\n",
       "      <td>1599.000000</td>\n",
       "      <td>1599.000000</td>\n",
       "      <td>1599.000000</td>\n",
       "      <td>1599.000000</td>\n",
       "    </tr>\n",
       "    <tr>\n",
       "      <th>mean</th>\n",
       "      <td>8.319637</td>\n",
       "      <td>0.527821</td>\n",
       "      <td>0.270976</td>\n",
       "      <td>2.538806</td>\n",
       "      <td>0.087467</td>\n",
       "      <td>15.874922</td>\n",
       "      <td>46.467792</td>\n",
       "      <td>0.996747</td>\n",
       "      <td>3.311113</td>\n",
       "      <td>0.658149</td>\n",
       "      <td>10.422983</td>\n",
       "      <td>5.636023</td>\n",
       "    </tr>\n",
       "    <tr>\n",
       "      <th>std</th>\n",
       "      <td>1.741096</td>\n",
       "      <td>0.179060</td>\n",
       "      <td>0.194801</td>\n",
       "      <td>1.409928</td>\n",
       "      <td>0.047065</td>\n",
       "      <td>10.460157</td>\n",
       "      <td>32.895324</td>\n",
       "      <td>0.001887</td>\n",
       "      <td>0.154386</td>\n",
       "      <td>0.169507</td>\n",
       "      <td>1.065668</td>\n",
       "      <td>0.807569</td>\n",
       "    </tr>\n",
       "    <tr>\n",
       "      <th>min</th>\n",
       "      <td>4.600000</td>\n",
       "      <td>0.120000</td>\n",
       "      <td>0.000000</td>\n",
       "      <td>0.900000</td>\n",
       "      <td>0.012000</td>\n",
       "      <td>1.000000</td>\n",
       "      <td>6.000000</td>\n",
       "      <td>0.990070</td>\n",
       "      <td>2.740000</td>\n",
       "      <td>0.330000</td>\n",
       "      <td>8.400000</td>\n",
       "      <td>3.000000</td>\n",
       "    </tr>\n",
       "    <tr>\n",
       "      <th>25%</th>\n",
       "      <td>7.100000</td>\n",
       "      <td>0.390000</td>\n",
       "      <td>0.090000</td>\n",
       "      <td>1.900000</td>\n",
       "      <td>0.070000</td>\n",
       "      <td>7.000000</td>\n",
       "      <td>22.000000</td>\n",
       "      <td>0.995600</td>\n",
       "      <td>3.210000</td>\n",
       "      <td>0.550000</td>\n",
       "      <td>9.500000</td>\n",
       "      <td>5.000000</td>\n",
       "    </tr>\n",
       "    <tr>\n",
       "      <th>50%</th>\n",
       "      <td>7.900000</td>\n",
       "      <td>0.520000</td>\n",
       "      <td>0.260000</td>\n",
       "      <td>2.200000</td>\n",
       "      <td>0.079000</td>\n",
       "      <td>14.000000</td>\n",
       "      <td>38.000000</td>\n",
       "      <td>0.996750</td>\n",
       "      <td>3.310000</td>\n",
       "      <td>0.620000</td>\n",
       "      <td>10.200000</td>\n",
       "      <td>6.000000</td>\n",
       "    </tr>\n",
       "    <tr>\n",
       "      <th>75%</th>\n",
       "      <td>9.200000</td>\n",
       "      <td>0.640000</td>\n",
       "      <td>0.420000</td>\n",
       "      <td>2.600000</td>\n",
       "      <td>0.090000</td>\n",
       "      <td>21.000000</td>\n",
       "      <td>62.000000</td>\n",
       "      <td>0.997835</td>\n",
       "      <td>3.400000</td>\n",
       "      <td>0.730000</td>\n",
       "      <td>11.100000</td>\n",
       "      <td>6.000000</td>\n",
       "    </tr>\n",
       "    <tr>\n",
       "      <th>max</th>\n",
       "      <td>15.900000</td>\n",
       "      <td>1.580000</td>\n",
       "      <td>1.000000</td>\n",
       "      <td>15.500000</td>\n",
       "      <td>0.611000</td>\n",
       "      <td>72.000000</td>\n",
       "      <td>289.000000</td>\n",
       "      <td>1.003690</td>\n",
       "      <td>4.010000</td>\n",
       "      <td>2.000000</td>\n",
       "      <td>14.900000</td>\n",
       "      <td>8.000000</td>\n",
       "    </tr>\n",
       "  </tbody>\n",
       "</table>\n",
       "</div>"
      ],
      "text/plain": [
       "       fixed acidity  volatile acidity  citric acid  residual sugar  \\\n",
       "count    1599.000000       1599.000000  1599.000000     1599.000000   \n",
       "mean        8.319637          0.527821     0.270976        2.538806   \n",
       "std         1.741096          0.179060     0.194801        1.409928   \n",
       "min         4.600000          0.120000     0.000000        0.900000   \n",
       "25%         7.100000          0.390000     0.090000        1.900000   \n",
       "50%         7.900000          0.520000     0.260000        2.200000   \n",
       "75%         9.200000          0.640000     0.420000        2.600000   \n",
       "max        15.900000          1.580000     1.000000       15.500000   \n",
       "\n",
       "         chlorides  free sulfur dioxide  total sulfur dioxide      density  \\\n",
       "count  1599.000000          1599.000000           1599.000000  1599.000000   \n",
       "mean      0.087467            15.874922             46.467792     0.996747   \n",
       "std       0.047065            10.460157             32.895324     0.001887   \n",
       "min       0.012000             1.000000              6.000000     0.990070   \n",
       "25%       0.070000             7.000000             22.000000     0.995600   \n",
       "50%       0.079000            14.000000             38.000000     0.996750   \n",
       "75%       0.090000            21.000000             62.000000     0.997835   \n",
       "max       0.611000            72.000000            289.000000     1.003690   \n",
       "\n",
       "                pH    sulphates      alcohol      quality  \n",
       "count  1599.000000  1599.000000  1599.000000  1599.000000  \n",
       "mean      3.311113     0.658149    10.422983     5.636023  \n",
       "std       0.154386     0.169507     1.065668     0.807569  \n",
       "min       2.740000     0.330000     8.400000     3.000000  \n",
       "25%       3.210000     0.550000     9.500000     5.000000  \n",
       "50%       3.310000     0.620000    10.200000     6.000000  \n",
       "75%       3.400000     0.730000    11.100000     6.000000  \n",
       "max       4.010000     2.000000    14.900000     8.000000  "
      ]
     },
     "execution_count": 64,
     "metadata": {},
     "output_type": "execute_result"
    }
   ],
   "source": [
    "df.describe()"
   ]
  },
  {
   "cell_type": "code",
   "execution_count": 65,
   "id": "f63eebf6",
   "metadata": {},
   "outputs": [
    {
     "name": "stdout",
     "output_type": "stream",
     "text": [
      "<class 'pandas.core.frame.DataFrame'>\n",
      "RangeIndex: 1599 entries, 0 to 1598\n",
      "Data columns (total 12 columns):\n",
      " #   Column                Non-Null Count  Dtype  \n",
      "---  ------                --------------  -----  \n",
      " 0   fixed acidity         1599 non-null   float64\n",
      " 1   volatile acidity      1599 non-null   float64\n",
      " 2   citric acid           1599 non-null   float64\n",
      " 3   residual sugar        1599 non-null   float64\n",
      " 4   chlorides             1599 non-null   float64\n",
      " 5   free sulfur dioxide   1599 non-null   float64\n",
      " 6   total sulfur dioxide  1599 non-null   float64\n",
      " 7   density               1599 non-null   float64\n",
      " 8   pH                    1599 non-null   float64\n",
      " 9   sulphates             1599 non-null   float64\n",
      " 10  alcohol               1599 non-null   float64\n",
      " 11  quality               1599 non-null   int64  \n",
      "dtypes: float64(11), int64(1)\n",
      "memory usage: 150.0 KB\n"
     ]
    }
   ],
   "source": [
    "df.info()"
   ]
  },
  {
   "cell_type": "code",
   "execution_count": 66,
   "id": "f81eb631",
   "metadata": {},
   "outputs": [
    {
     "data": {
      "text/plain": [
       "<Axes: >"
      ]
     },
     "execution_count": 66,
     "metadata": {},
     "output_type": "execute_result"
    },
    {
     "data": {
      "image/png": "[encoded data removed]",
      "text/plain": [
       "<Figure size 640x480 with 2 Axes>"
      ]
     },
     "metadata": {},
     "output_type": "display_data"
    }
   ],
   "source": [
    "import seaborn as sns\n",
    "\n",
    "sns.heatmap(df.corr(), annot=True)"
   ]
  },
  {
   "cell_type": "code",
   "execution_count": 67,
   "id": "dc7cd58e",
   "metadata": {},
   "outputs": [
    {
     "data": {
      "text/plain": [
       "<Axes: xlabel='quality', ylabel='count'>"
      ]
     },
     "execution_count": 67,
     "metadata": {},
     "output_type": "execute_result"
    },
    {
     "data": {
      "image/png": "[encoded data removed]",
      "text/plain": [
       "<Figure size 640x480 with 1 Axes>"
      ]
     },
     "metadata": {},
     "output_type": "display_data"
    }
   ],
   "source": [
    "sns.countplot(data=df, x='quality')"
   ]
  },
  {
   "cell_type": "code",
   "execution_count": 68,
   "id": "1760c4db",
   "metadata": {},
   "outputs": [],
   "source": [
    "# import matplotlib.pyplot as plt\n",
    "\n",
    "# for col in df.columns[:-1]:\n",
    "#     plt.figure(figsize=(10,4))\n",
    "#     sns.histplot(df[col], kde=True)"
   ]
  },
  {
   "cell_type": "code",
   "execution_count": 69,
   "id": "c4f30f37",
   "metadata": {},
   "outputs": [],
   "source": [
    "# sns.pairplot(data=df)"
   ]
  },
  {
   "cell_type": "markdown",
   "id": "be3383c8",
   "metadata": {},
   "source": [
    "# Split data into train/valid/test"
   ]
  },
  {
   "cell_type": "code",
   "execution_count": 70,
   "id": "9cd4a059",
   "metadata": {},
   "outputs": [
    {
     "data": {
      "text/html": [
       "<div>\n",
       "<style scoped>\n",
       "    .dataframe tbody tr th:only-of-type {\n",
       "        vertical-align: middle;\n",
       "    }\n",
       "\n",
       "    .dataframe tbody tr th {\n",
       "        vertical-align: top;\n",
       "    }\n",
       "\n",
       "    .dataframe thead th {\n",
       "        text-align: right;\n",
       "    }\n",
       "</style>\n",
       "<table border=\"1\" class=\"dataframe\">\n",
       "  <thead>\n",
       "    <tr style=\"text-align: right;\">\n",
       "      <th></th>\n",
       "      <th>fixed acidity</th>\n",
       "      <th>volatile acidity</th>\n",
       "      <th>citric acid</th>\n",
       "      <th>residual sugar</th>\n",
       "      <th>chlorides</th>\n",
       "      <th>free sulfur dioxide</th>\n",
       "      <th>total sulfur dioxide</th>\n",
       "      <th>density</th>\n",
       "      <th>pH</th>\n",
       "      <th>sulphates</th>\n",
       "      <th>alcohol</th>\n",
       "    </tr>\n",
       "  </thead>\n",
       "  <tbody>\n",
       "    <tr>\n",
       "      <th>0</th>\n",
       "      <td>7.4</td>\n",
       "      <td>0.700</td>\n",
       "      <td>0.00</td>\n",
       "      <td>1.9</td>\n",
       "      <td>0.076</td>\n",
       "      <td>11.0</td>\n",
       "      <td>34.0</td>\n",
       "      <td>0.99780</td>\n",
       "      <td>3.51</td>\n",
       "      <td>0.56</td>\n",
       "      <td>9.4</td>\n",
       "    </tr>\n",
       "    <tr>\n",
       "      <th>1</th>\n",
       "      <td>7.8</td>\n",
       "      <td>0.880</td>\n",
       "      <td>0.00</td>\n",
       "      <td>2.6</td>\n",
       "      <td>0.098</td>\n",
       "      <td>25.0</td>\n",
       "      <td>67.0</td>\n",
       "      <td>0.99680</td>\n",
       "      <td>3.20</td>\n",
       "      <td>0.68</td>\n",
       "      <td>9.8</td>\n",
       "    </tr>\n",
       "    <tr>\n",
       "      <th>2</th>\n",
       "      <td>7.8</td>\n",
       "      <td>0.760</td>\n",
       "      <td>0.04</td>\n",
       "      <td>2.3</td>\n",
       "      <td>0.092</td>\n",
       "      <td>15.0</td>\n",
       "      <td>54.0</td>\n",
       "      <td>0.99700</td>\n",
       "      <td>3.26</td>\n",
       "      <td>0.65</td>\n",
       "      <td>9.8</td>\n",
       "    </tr>\n",
       "    <tr>\n",
       "      <th>3</th>\n",
       "      <td>11.2</td>\n",
       "      <td>0.280</td>\n",
       "      <td>0.56</td>\n",
       "      <td>1.9</td>\n",
       "      <td>0.075</td>\n",
       "      <td>17.0</td>\n",
       "      <td>60.0</td>\n",
       "      <td>0.99800</td>\n",
       "      <td>3.16</td>\n",
       "      <td>0.58</td>\n",
       "      <td>9.8</td>\n",
       "    </tr>\n",
       "    <tr>\n",
       "      <th>4</th>\n",
       "      <td>7.4</td>\n",
       "      <td>0.700</td>\n",
       "      <td>0.00</td>\n",
       "      <td>1.9</td>\n",
       "      <td>0.076</td>\n",
       "      <td>11.0</td>\n",
       "      <td>34.0</td>\n",
       "      <td>0.99780</td>\n",
       "      <td>3.51</td>\n",
       "      <td>0.56</td>\n",
       "      <td>9.4</td>\n",
       "    </tr>\n",
       "    <tr>\n",
       "      <th>...</th>\n",
       "      <td>...</td>\n",
       "      <td>...</td>\n",
       "      <td>...</td>\n",
       "      <td>...</td>\n",
       "      <td>...</td>\n",
       "      <td>...</td>\n",
       "      <td>...</td>\n",
       "      <td>...</td>\n",
       "      <td>...</td>\n",
       "      <td>...</td>\n",
       "      <td>...</td>\n",
       "    </tr>\n",
       "    <tr>\n",
       "      <th>1594</th>\n",
       "      <td>6.2</td>\n",
       "      <td>0.600</td>\n",
       "      <td>0.08</td>\n",
       "      <td>2.0</td>\n",
       "      <td>0.090</td>\n",
       "      <td>32.0</td>\n",
       "      <td>44.0</td>\n",
       "      <td>0.99490</td>\n",
       "      <td>3.45</td>\n",
       "      <td>0.58</td>\n",
       "      <td>10.5</td>\n",
       "    </tr>\n",
       "    <tr>\n",
       "      <th>1595</th>\n",
       "      <td>5.9</td>\n",
       "      <td>0.550</td>\n",
       "      <td>0.10</td>\n",
       "      <td>2.2</td>\n",
       "      <td>0.062</td>\n",
       "      <td>39.0</td>\n",
       "      <td>51.0</td>\n",
       "      <td>0.99512</td>\n",
       "      <td>3.52</td>\n",
       "      <td>0.76</td>\n",
       "      <td>11.2</td>\n",
       "    </tr>\n",
       "    <tr>\n",
       "      <th>1596</th>\n",
       "      <td>6.3</td>\n",
       "      <td>0.510</td>\n",
       "      <td>0.13</td>\n",
       "      <td>2.3</td>\n",
       "      <td>0.076</td>\n",
       "      <td>29.0</td>\n",
       "      <td>40.0</td>\n",
       "      <td>0.99574</td>\n",
       "      <td>3.42</td>\n",
       "      <td>0.75</td>\n",
       "      <td>11.0</td>\n",
       "    </tr>\n",
       "    <tr>\n",
       "      <th>1597</th>\n",
       "      <td>5.9</td>\n",
       "      <td>0.645</td>\n",
       "      <td>0.12</td>\n",
       "      <td>2.0</td>\n",
       "      <td>0.075</td>\n",
       "      <td>32.0</td>\n",
       "      <td>44.0</td>\n",
       "      <td>0.99547</td>\n",
       "      <td>3.57</td>\n",
       "      <td>0.71</td>\n",
       "      <td>10.2</td>\n",
       "    </tr>\n",
       "    <tr>\n",
       "      <th>1598</th>\n",
       "      <td>6.0</td>\n",
       "      <td>0.310</td>\n",
       "      <td>0.47</td>\n",
       "      <td>3.6</td>\n",
       "      <td>0.067</td>\n",
       "      <td>18.0</td>\n",
       "      <td>42.0</td>\n",
       "      <td>0.99549</td>\n",
       "      <td>3.39</td>\n",
       "      <td>0.66</td>\n",
       "      <td>11.0</td>\n",
       "    </tr>\n",
       "  </tbody>\n",
       "</table>\n",
       "<p>1599 rows × 11 columns</p>\n",
       "</div>"
      ],
      "text/plain": [
       "      fixed acidity  volatile acidity  citric acid  residual sugar  chlorides  \\\n",
       "0               7.4             0.700         0.00             1.9      0.076   \n",
       "1               7.8             0.880         0.00             2.6      0.098   \n",
       "2               7.8             0.760         0.04             2.3      0.092   \n",
       "3              11.2             0.280         0.56             1.9      0.075   \n",
       "4               7.4             0.700         0.00             1.9      0.076   \n",
       "...             ...               ...          ...             ...        ...   \n",
       "1594            6.2             0.600         0.08             2.0      0.090   \n",
       "1595            5.9             0.550         0.10             2.2      0.062   \n",
       "1596            6.3             0.510         0.13             2.3      0.076   \n",
       "1597            5.9             0.645         0.12             2.0      0.075   \n",
       "1598            6.0             0.310         0.47             3.6      0.067   \n",
       "\n",
       "      free sulfur dioxide  total sulfur dioxide  density    pH  sulphates  \\\n",
       "0                    11.0                  34.0  0.99780  3.51       0.56   \n",
       "1                    25.0                  67.0  0.99680  3.20       0.68   \n",
       "2                    15.0                  54.0  0.99700  3.26       0.65   \n",
       "3                    17.0                  60.0  0.99800  3.16       0.58   \n",
       "4                    11.0                  34.0  0.99780  3.51       0.56   \n",
       "...                   ...                   ...      ...   ...        ...   \n",
       "1594                 32.0                  44.0  0.99490  3.45       0.58   \n",
       "1595                 39.0                  51.0  0.99512  3.52       0.76   \n",
       "1596                 29.0                  40.0  0.99574  3.42       0.75   \n",
       "1597                 32.0                  44.0  0.99547  3.57       0.71   \n",
       "1598                 18.0                  42.0  0.99549  3.39       0.66   \n",
       "\n",
       "      alcohol  \n",
       "0         9.4  \n",
       "1         9.8  \n",
       "2         9.8  \n",
       "3         9.8  \n",
       "4         9.4  \n",
       "...       ...  \n",
       "1594     10.5  \n",
       "1595     11.2  \n",
       "1596     11.0  \n",
       "1597     10.2  \n",
       "1598     11.0  \n",
       "\n",
       "[1599 rows x 11 columns]"
      ]
     },
     "execution_count": 70,
     "metadata": {},
     "output_type": "execute_result"
    }
   ],
   "source": [
    "X = df.iloc[:,:-1]\n",
    "Y = df.iloc[:,-1]\n",
    "X"
   ]
  },
  {
   "cell_type": "code",
   "execution_count": 71,
   "id": "3228f1f2",
   "metadata": {},
   "outputs": [
    {
     "data": {
      "text/plain": [
       "0       5\n",
       "1       5\n",
       "2       5\n",
       "3       6\n",
       "4       5\n",
       "       ..\n",
       "1594    5\n",
       "1595    6\n",
       "1596    6\n",
       "1597    5\n",
       "1598    6\n",
       "Name: quality, Length: 1599, dtype: int64"
      ]
     },
     "execution_count": 71,
     "metadata": {},
     "output_type": "execute_result"
    }
   ],
   "source": [
    "Y"
   ]
  },
  {
   "cell_type": "code",
   "execution_count": 72,
   "id": "d27286b8",
   "metadata": {},
   "outputs": [],
   "source": [
    "from sklearn.model_selection import train_test_split\n",
    "\n",
    "train_x, everything_else_x, train_y, ee_y = train_test_split(X, Y, test_size=0.3, random_state=42)"
   ]
  },
  {
   "cell_type": "code",
   "execution_count": 73,
   "id": "f710790a",
   "metadata": {},
   "outputs": [
    {
     "data": {
      "text/plain": [
       "(1119, 11)"
      ]
     },
     "execution_count": 73,
     "metadata": {},
     "output_type": "execute_result"
    }
   ],
   "source": [
    "train_x.shape"
   ]
  },
  {
   "cell_type": "code",
   "execution_count": 74,
   "id": "298e58e8",
   "metadata": {},
   "outputs": [],
   "source": [
    "valid_x, test_x, valid_y, test_y = train_test_split(everything_else_x, ee_y, test_size=0.5, random_state=42)"
   ]
  },
  {
   "cell_type": "code",
   "execution_count": 75,
   "id": "37461703",
   "metadata": {},
   "outputs": [
    {
     "data": {
      "text/plain": [
       "(240, 11)"
      ]
     },
     "execution_count": 75,
     "metadata": {},
     "output_type": "execute_result"
    }
   ],
   "source": [
    "valid_x.shape"
   ]
  },
  {
   "cell_type": "code",
   "execution_count": 76,
   "id": "54861192",
   "metadata": {},
   "outputs": [
    {
     "data": {
      "text/plain": [
       "(240, 11)"
      ]
     },
     "execution_count": 76,
     "metadata": {},
     "output_type": "execute_result"
    }
   ],
   "source": [
    "test_x.shape"
   ]
  },
  {
   "cell_type": "markdown",
   "id": "446d4eb8",
   "metadata": {},
   "source": [
    "# Move data to PyTorch ecosystem"
   ]
  },
  {
   "cell_type": "code",
   "execution_count": 77,
   "id": "7fa9cbb1",
   "metadata": {},
   "outputs": [],
   "source": [
    "import torch\n",
    "\n",
    "train_x = torch.tensor(train_x.to_numpy())"
   ]
  },
  {
   "cell_type": "code",
   "execution_count": 78,
   "id": "5d149b02",
   "metadata": {},
   "outputs": [
    {
     "data": {
      "text/plain": [
       "tensor([[ 8.6000,  0.2200,  0.3600,  ...,  3.4700,  0.8700, 11.0000],\n",
       "        [12.5000,  0.4600,  0.6300,  ...,  2.9900,  0.8700, 10.2000],\n",
       "        [ 7.2000,  0.5400,  0.2700,  ...,  3.3900,  0.7100, 11.0000],\n",
       "        ...,\n",
       "        [ 7.2000,  0.6200,  0.0600,  ...,  3.5100,  0.5400,  9.5000],\n",
       "        [ 7.9000,  0.2000,  0.3500,  ...,  3.3200,  0.8000, 11.9000],\n",
       "        [ 5.8000,  0.2900,  0.2600,  ...,  3.3900,  0.5400, 13.5000]],\n",
       "       dtype=torch.float64)"
      ]
     },
     "execution_count": 78,
     "metadata": {},
     "output_type": "execute_result"
    }
   ],
   "source": [
    "train_x"
   ]
  },
  {
   "cell_type": "code",
   "execution_count": 79,
   "id": "b3637c75",
   "metadata": {},
   "outputs": [
    {
     "data": {
      "text/plain": [
       "tensor([[ 8.6000,  0.2200,  0.3600,  ...,  3.4700,  0.8700, 11.0000],\n",
       "        [12.5000,  0.4600,  0.6300,  ...,  2.9900,  0.8700, 10.2000],\n",
       "        [ 7.2000,  0.5400,  0.2700,  ...,  3.3900,  0.7100, 11.0000],\n",
       "        ...,\n",
       "        [ 7.2000,  0.6200,  0.0600,  ...,  3.5100,  0.5400,  9.5000],\n",
       "        [ 7.9000,  0.2000,  0.3500,  ...,  3.3200,  0.8000, 11.9000],\n",
       "        [ 5.8000,  0.2900,  0.2600,  ...,  3.3900,  0.5400, 13.5000]])"
      ]
     },
     "execution_count": 79,
     "metadata": {},
     "output_type": "execute_result"
    }
   ],
   "source": [
    "train_x = train_x.float()\n",
    "train_x"
   ]
  },
  {
   "cell_type": "code",
   "execution_count": 80,
   "id": "d1f74d38",
   "metadata": {},
   "outputs": [],
   "source": [
    "test_x, valid_x = map(torch.tensor, (test_x.to_numpy(), valid_x.to_numpy()))\n",
    "test_x = test_x.float()\n",
    "valid_x = valid_x.float()"
   ]
  },
  {
   "cell_type": "code",
   "execution_count": 81,
   "id": "b30056f7",
   "metadata": {},
   "outputs": [
    {
     "data": {
      "text/plain": [
       "torch.Size([240, 11])"
      ]
     },
     "execution_count": 81,
     "metadata": {},
     "output_type": "execute_result"
    }
   ],
   "source": [
    "valid_x.shape"
   ]
  },
  {
   "cell_type": "code",
   "execution_count": 82,
   "id": "f86cce20",
   "metadata": {},
   "outputs": [],
   "source": [
    "train_y, test_y, valid_y = map(torch.tensor, (train_y.to_numpy(), test_y.to_numpy(), valid_y.to_numpy()))"
   ]
  },
  {
   "cell_type": "code",
   "execution_count": 83,
   "id": "3d5d57ba",
   "metadata": {},
   "outputs": [
    {
     "data": {
      "text/plain": [
       "tensor([7, 5, 5,  ..., 5, 7, 6])"
      ]
     },
     "execution_count": 83,
     "metadata": {},
     "output_type": "execute_result"
    }
   ],
   "source": [
    "train_y"
   ]
  },
  {
   "cell_type": "code",
   "execution_count": 84,
   "id": "97bd329e",
   "metadata": {},
   "outputs": [],
   "source": [
    "from torch.utils.data import Dataset\n",
    "\n",
    "class DiamondsDataset(Dataset):\n",
    "    def __init__(self, x, y):\n",
    "        self.x = x\n",
    "        self.y = y\n",
    "        \n",
    "    def __getitem__(self, index):\n",
    "        return self.x[index], self.y[index]\n",
    "    \n",
    "    def __len__(self):\n",
    "        return len(self.x)"
   ]
  },
  {
   "cell_type": "code",
   "execution_count": 85,
   "id": "c2417e7d",
   "metadata": {},
   "outputs": [],
   "source": [
    "diamonds_train = DiamondsDataset(train_x, train_y)"
   ]
  },
  {
   "cell_type": "code",
   "execution_count": 86,
   "id": "8f0134d9",
   "metadata": {},
   "outputs": [],
   "source": [
    "from torch.utils.data import DataLoader\n",
    "\n",
    "train_loader = DataLoader(dataset=diamonds_train, batch_size=8)"
   ]
  },
  {
   "cell_type": "markdown",
   "id": "8febbd65",
   "metadata": {},
   "source": [
    "# MLP"
   ]
  },
  {
   "cell_type": "code",
   "execution_count": 87,
   "id": "2a87819f",
   "metadata": {},
   "outputs": [],
   "source": [
    "class DiamondsMLP(torch.nn.Module):\n",
    "    def __init__(self, n_inputs, hidden_size, n_outputs):\n",
    "        super(DiamondsMLP, self).__init__()\n",
    "        self.inputs = n_inputs\n",
    "        self.hidden = hidden_size\n",
    "        self.outputs = n_outputs\n",
    "        \n",
    "        self.linear1 = torch.nn.Linear(self.inputs, self.hidden)\n",
    "        self.linear2 = torch.nn.Linear(self.hidden, self.outputs)\n",
    "        \n",
    "        self.relu = torch.nn.LeakyReLU()\n",
    "        \n",
    "    def forward(self, X):\n",
    "        out = self.linear1(X)\n",
    "        out = self.relu(out)\n",
    "        out = self.linear2(out)\n",
    "        return out"
   ]
  },
  {
   "cell_type": "code",
   "execution_count": 88,
   "id": "2f7dbe13",
   "metadata": {},
   "outputs": [
    {
     "data": {
      "text/plain": [
       "11"
      ]
     },
     "execution_count": 88,
     "metadata": {},
     "output_type": "execute_result"
    }
   ],
   "source": [
    "train_x.shape[1]"
   ]
  },
  {
   "cell_type": "code",
   "execution_count": 89,
   "id": "2bf14ad1",
   "metadata": {},
   "outputs": [],
   "source": [
    "model = DiamondsMLP(n_inputs=train_x.shape[1], hidden_size=5, n_outputs=10)"
   ]
  },
  {
   "cell_type": "code",
   "execution_count": 90,
   "id": "fec82f8f",
   "metadata": {},
   "outputs": [
    {
     "data": {
      "text/plain": [
       "DiamondsMLP(\n",
       "  (linear1): Linear(in_features=11, out_features=5, bias=True)\n",
       "  (linear2): Linear(in_features=5, out_features=10, bias=True)\n",
       "  (relu): LeakyReLU(negative_slope=0.01)\n",
       ")"
      ]
     },
     "execution_count": 90,
     "metadata": {},
     "output_type": "execute_result"
    }
   ],
   "source": [
    "model"
   ]
  },
  {
   "cell_type": "code",
   "execution_count": 91,
   "id": "c4381009",
   "metadata": {},
   "outputs": [],
   "source": [
    "criterion = torch.nn.CrossEntropyLoss()\n",
    "optimiser = torch.optim.SGD(params=model.parameters(), lr=0.0001, momentum=0.7)"
   ]
  },
  {
   "cell_type": "code",
   "execution_count": 92,
   "id": "95c59591",
   "metadata": {},
   "outputs": [
    {
     "name": "stdout",
     "output_type": "stream",
     "text": [
      "Epoch 0 train_loss 2.408778163364955 valid_loss 2.331404685974121 validation accuracy: 0.225\n",
      "Epoch 1 train_loss 2.219313726254872 valid_loss 2.2417564392089844 validation accuracy: 0.12916666666666668\n",
      "Epoch 2 train_loss 2.0936240289892467 valid_loss 2.0515027046203613 validation accuracy: 0.0875\n",
      "Epoch 3 train_loss 1.8628810473850794 valid_loss 1.7418265342712402 validation accuracy: 0.37083333333333335\n",
      "Epoch 4 train_loss 1.6050788828304836 valid_loss 1.537040114402771 validation accuracy: 0.44166666666666665\n",
      "Epoch 5 train_loss 1.4811658429247991 valid_loss 1.4589990377426147 validation accuracy: 0.4125\n",
      "Epoch 6 train_loss 1.425562441774777 valid_loss 1.416772484779358 validation accuracy: 0.425\n",
      "Epoch 7 train_loss 1.3903113275766372 valid_loss 1.3878605365753174 validation accuracy: 0.43333333333333335\n",
      "Epoch 8 train_loss 1.3646742995296206 valid_loss 1.3657584190368652 validation accuracy: 0.43333333333333335\n",
      "Epoch 9 train_loss 1.3452694424561091 valid_loss 1.3483786582946777 validation accuracy: 0.44166666666666665\n",
      "Epoch 10 train_loss 1.3298823697226387 valid_loss 1.334654688835144 validation accuracy: 0.44583333333333336\n",
      "Epoch 11 train_loss 1.3170975238084792 valid_loss 1.3233928680419922 validation accuracy: 0.44583333333333336\n",
      "Epoch 12 train_loss 1.3056470853941782 valid_loss 1.3135254383087158 validation accuracy: 0.45416666666666666\n",
      "Epoch 13 train_loss 1.2956282841307776 valid_loss 1.3048073053359985 validation accuracy: 0.4666666666666667\n",
      "Epoch 14 train_loss 1.286830478480884 valid_loss 1.2969813346862793 validation accuracy: 0.4625\n",
      "Epoch 15 train_loss 1.2781899022204535 valid_loss 1.2896251678466797 validation accuracy: 0.4583333333333333\n",
      "Epoch 16 train_loss 1.2710252084902354 valid_loss 1.2832139730453491 validation accuracy: 0.4583333333333333\n",
      "Epoch 17 train_loss 1.2643687678234918 valid_loss 1.2775452136993408 validation accuracy: 0.4583333333333333\n",
      "Epoch 18 train_loss 1.2580833984272821 valid_loss 1.272022008895874 validation accuracy: 0.45416666666666666\n",
      "Epoch 19 train_loss 1.252615236384528 valid_loss 1.2669093608856201 validation accuracy: 0.4625\n",
      "Epoch 20 train_loss 1.2474114664963314 valid_loss 1.2622034549713135 validation accuracy: 0.4708333333333333\n",
      "Epoch 21 train_loss 1.2432526290416717 valid_loss 1.2577043771743774 validation accuracy: 0.475\n",
      "Epoch 22 train_loss 1.2385860919952392 valid_loss 1.2533543109893799 validation accuracy: 0.4791666666666667\n",
      "Epoch 23 train_loss 1.2344382422310964 valid_loss 1.2493473291397095 validation accuracy: 0.4791666666666667\n",
      "Epoch 24 train_loss 1.2304812056677683 valid_loss 1.2455828189849854 validation accuracy: 0.4791666666666667\n",
      "Epoch 25 train_loss 1.2267379296677454 valid_loss 1.2418962717056274 validation accuracy: 0.49166666666666664\n",
      "Epoch 26 train_loss 1.2231516531535558 valid_loss 1.2378476858139038 validation accuracy: 0.4875\n",
      "Epoch 27 train_loss 1.2199248062712806 valid_loss 1.233627200126648 validation accuracy: 0.49166666666666664\n",
      "Epoch 28 train_loss 1.2161906749010085 valid_loss 1.2289527654647827 validation accuracy: 0.49583333333333335\n",
      "Epoch 29 train_loss 1.2137231890644347 valid_loss 1.2259403467178345 validation accuracy: 0.4875\n",
      "Epoch 30 train_loss 1.2104742433343614 valid_loss 1.2234625816345215 validation accuracy: 0.49166666666666664\n",
      "Epoch 31 train_loss 1.2076411357947758 valid_loss 1.2198615074157715 validation accuracy: 0.5041666666666667\n",
      "Epoch 32 train_loss 1.204809012583324 valid_loss 1.2153626680374146 validation accuracy: 0.5125\n",
      "Epoch 33 train_loss 1.2020024810518537 valid_loss 1.2104264497756958 validation accuracy: 0.5083333333333333\n",
      "Epoch 34 train_loss 1.198477104306221 valid_loss 1.2060034275054932 validation accuracy: 0.5125\n",
      "Epoch 35 train_loss 1.1942963421344757 valid_loss 1.2007375955581665 validation accuracy: 0.5041666666666667\n",
      "Epoch 36 train_loss 1.1908701296363557 valid_loss 1.1960123777389526 validation accuracy: 0.5041666666666667\n",
      "Epoch 37 train_loss 1.187860516139439 valid_loss 1.1934367418289185 validation accuracy: 0.5083333333333333\n",
      "Epoch 38 train_loss 1.1848386394126074 valid_loss 1.189355492591858 validation accuracy: 0.5041666666666667\n",
      "Epoch 39 train_loss 1.1812228130442755 valid_loss 1.184572458267212 validation accuracy: 0.5\n",
      "Epoch 40 train_loss 1.1784253661121642 valid_loss 1.1819461584091187 validation accuracy: 0.5083333333333333\n",
      "Epoch 41 train_loss 1.1758573485272272 valid_loss 1.17987859249115 validation accuracy: 0.5166666666666667\n",
      "Epoch 42 train_loss 1.1733455721821104 valid_loss 1.1789807081222534 validation accuracy: 0.5083333333333333\n",
      "Epoch 43 train_loss 1.1713760857071196 valid_loss 1.1780601739883423 validation accuracy: 0.5041666666666667\n",
      "Epoch 44 train_loss 1.1696008946214402 valid_loss 1.176878809928894 validation accuracy: 0.5\n",
      "Epoch 45 train_loss 1.168190893956593 valid_loss 1.1763927936553955 validation accuracy: 0.5\n",
      "Epoch 46 train_loss 1.166047442810876 valid_loss 1.1770697832107544 validation accuracy: 0.49166666666666664\n",
      "Epoch 47 train_loss 1.1651127283062255 valid_loss 1.1766763925552368 validation accuracy: 0.4875\n",
      "Epoch 48 train_loss 1.1630627985511508 valid_loss 1.1766115427017212 validation accuracy: 0.48333333333333334\n",
      "Epoch 49 train_loss 1.1616739273071288 valid_loss 1.1755167245864868 validation accuracy: 0.4875\n",
      "Epoch 50 train_loss 1.16061666565282 valid_loss 1.1746933460235596 validation accuracy: 0.4875\n",
      "Epoch 51 train_loss 1.1594081159148897 valid_loss 1.1737781763076782 validation accuracy: 0.4875\n",
      "Epoch 52 train_loss 1.1581142553261348 valid_loss 1.172996997833252 validation accuracy: 0.4875\n",
      "Epoch 53 train_loss 1.1570279700415476 valid_loss 1.1721168756484985 validation accuracy: 0.4875\n",
      "Epoch 54 train_loss 1.156117759006364 valid_loss 1.1712100505828857 validation accuracy: 0.49166666666666664\n",
      "Epoch 55 train_loss 1.1551053306886128 valid_loss 1.170108437538147 validation accuracy: 0.4875\n",
      "Epoch 56 train_loss 1.154156608240945 valid_loss 1.1691818237304688 validation accuracy: 0.4875\n",
      "Epoch 57 train_loss 1.153326489669936 valid_loss 1.1682887077331543 validation accuracy: 0.4875\n",
      "Epoch 58 train_loss 1.1524392460073745 valid_loss 1.1674164533615112 validation accuracy: 0.49166666666666664\n",
      "Epoch 59 train_loss 1.151580707515989 valid_loss 1.1665985584259033 validation accuracy: 0.4875\n",
      "Epoch 60 train_loss 1.1507907169205802 valid_loss 1.1661790609359741 validation accuracy: 0.4875\n",
      "Epoch 61 train_loss 1.150239098072052 valid_loss 1.165143370628357 validation accuracy: 0.4875\n",
      "Epoch 62 train_loss 1.1493802066360201 valid_loss 1.1646791696548462 validation accuracy: 0.49166666666666664\n",
      "Epoch 63 train_loss 1.1486377724579402 valid_loss 1.1639567613601685 validation accuracy: 0.49166666666666664\n",
      "Epoch 64 train_loss 1.14791924399989 valid_loss 1.163243055343628 validation accuracy: 0.49166666666666664\n",
      "Epoch 65 train_loss 1.1473744196551188 valid_loss 1.1626815795898438 validation accuracy: 0.49166666666666664\n",
      "Epoch 66 train_loss 1.1466879870210376 valid_loss 1.1620509624481201 validation accuracy: 0.49166666666666664\n",
      "Epoch 67 train_loss 1.146005635176386 valid_loss 1.1614272594451904 validation accuracy: 0.49166666666666664\n",
      "Epoch 68 train_loss 1.1453363525015967 valid_loss 1.160812497138977 validation accuracy: 0.49166666666666664\n",
      "Epoch 69 train_loss 1.144340604543686 valid_loss 1.1598936319351196 validation accuracy: 0.49166666666666664\n",
      "Epoch 70 train_loss 1.1439992947237831 valid_loss 1.1595755815505981 validation accuracy: 0.49166666666666664\n",
      "Epoch 71 train_loss 1.1434002548456192 valid_loss 1.158973217010498 validation accuracy: 0.49166666666666664\n",
      "Epoch 72 train_loss 1.1427492158753532 valid_loss 1.1582081317901611 validation accuracy: 0.49166666666666664\n",
      "Epoch 73 train_loss 1.1420011247907367 valid_loss 1.1574500799179077 validation accuracy: 0.49166666666666664\n",
      "Epoch 74 train_loss 1.1410302979605538 valid_loss 1.157233476638794 validation accuracy: 0.49166666666666664\n",
      "Epoch 75 train_loss 1.1404282544340407 valid_loss 1.156734824180603 validation accuracy: 0.49166666666666664\n",
      "Epoch 76 train_loss 1.1397731538329805 valid_loss 1.1560498476028442 validation accuracy: 0.49166666666666664\n",
      "Epoch 77 train_loss 1.139252626470157 valid_loss 1.1554440259933472 validation accuracy: 0.49166666666666664\n",
      "Epoch 78 train_loss 1.1385246115071432 valid_loss 1.155539870262146 validation accuracy: 0.49166666666666664\n",
      "Epoch 79 train_loss 1.1380796432495117 valid_loss 1.1550841331481934 validation accuracy: 0.49166666666666664\n",
      "Epoch 80 train_loss 1.13774297279971 valid_loss 1.1540603637695312 validation accuracy: 0.49166666666666664\n",
      "Epoch 81 train_loss 1.1368388150419508 valid_loss 1.1539931297302246 validation accuracy: 0.49166666666666664\n",
      "Epoch 82 train_loss 1.1364752837589809 valid_loss 1.1535488367080688 validation accuracy: 0.49166666666666664\n",
      "Epoch 83 train_loss 1.1359737932682037 valid_loss 1.153111219406128 validation accuracy: 0.49166666666666664\n",
      "Epoch 84 train_loss 1.1353843416486467 valid_loss 1.1525901556015015 validation accuracy: 0.49583333333333335\n",
      "Epoch 85 train_loss 1.1347844507013047 valid_loss 1.1522504091262817 validation accuracy: 0.49583333333333335\n",
      "Epoch 86 train_loss 1.1342817289488656 valid_loss 1.1518877744674683 validation accuracy: 0.49583333333333335\n",
      "Epoch 87 train_loss 1.1338181470121655 valid_loss 1.1515291929244995 validation accuracy: 0.49583333333333335\n",
      "Epoch 88 train_loss 1.1333629697561265 valid_loss 1.1511722803115845 validation accuracy: 0.49583333333333335\n",
      "Epoch 89 train_loss 1.1329235238688333 valid_loss 1.1508193016052246 validation accuracy: 0.49583333333333335\n",
      "Epoch 90 train_loss 1.1324804016521999 valid_loss 1.150457739830017 validation accuracy: 0.49583333333333335\n",
      "Epoch 91 train_loss 1.1320659292595727 valid_loss 1.150006651878357 validation accuracy: 0.5\n",
      "Epoch 92 train_loss 1.131605311376708 valid_loss 1.14963960647583 validation accuracy: 0.5\n",
      "Epoch 93 train_loss 1.131184776340212 valid_loss 1.1492007970809937 validation accuracy: 0.5\n",
      "Epoch 94 train_loss 1.1309908551829202 valid_loss 1.1488512754440308 validation accuracy: 0.49583333333333335\n",
      "Epoch 95 train_loss 1.130622985959053 valid_loss 1.1483527421951294 validation accuracy: 0.5\n",
      "Epoch 96 train_loss 1.1301696223872049 valid_loss 1.1478312015533447 validation accuracy: 0.5\n",
      "Epoch 97 train_loss 1.1293337506907326 valid_loss 1.1475107669830322 validation accuracy: 0.5\n",
      "Epoch 98 train_loss 1.129458292893001 valid_loss 1.1476320028305054 validation accuracy: 0.49583333333333335\n",
      "Epoch 99 train_loss 1.1288358782018935 valid_loss 1.1481906175613403 validation accuracy: 0.4875\n"
     ]
    }
   ],
   "source": [
    "epochs = 100\n",
    "\n",
    "loss_valid = []\n",
    "loss_train = []\n",
    "\n",
    "for epoch in range(epochs):\n",
    "    model.train()\n",
    "    # Batch the data\n",
    "    epoch_loss_train = []\n",
    "    for features, targets in train_loader:\n",
    "        output = model.forward(features) # Get model hypotheses\n",
    "        # Calculate a loss\n",
    "        loss = criterion(output, targets)\n",
    "        epoch_loss_train.append(loss.item())\n",
    "        optimiser.zero_grad() # remove any previous losses\n",
    "        loss.backward() # Calculate the current losses backward through the MLP\n",
    "        optimiser.step() # Apply to the model itself\n",
    "    # Calculate the training loss per epoch\n",
    "    loss_train.append(sum(epoch_loss_train) / len(epoch_loss_train))\n",
    "    \n",
    "    # Per epoch, get validation performance\n",
    "    model.eval() # Puts the model in evaluation mode\n",
    "    valid_hyp = model.forward(valid_x)\n",
    "    loss_valid.append(criterion(valid_hyp, valid_y).item())\n",
    "    c = torch.argmax(valid_hyp.data, dim=1)\n",
    "    valid_accuracy = (c == valid_y).sum().item() / valid_x.shape[0]\n",
    "    print('Epoch', epoch, 'train_loss', loss_train[-1], 'valid_loss', loss_valid[-1],\n",
    "          'validation accuracy:', valid_accuracy)"
   ]
  },
  {
   "cell_type": "code",
   "execution_count": 93,
   "id": "4a015e33",
   "metadata": {},
   "outputs": [
    {
     "data": {
      "image/png": "[encoded data removed]",
      "text/plain": [
       "<Figure size 640x480 with 1 Axes>"
      ]
     },
     "metadata": {},
     "output_type": "display_data"
    }
   ],
   "source": [
    "import matplotlib.pyplot as plt\n",
    "import numpy as np\n",
    "\n",
    "def plot_loss_curves(epochs, loss_train, loss_valid):\n",
    "    plt.plot(epochs, loss_train, label='Train Loss')\n",
    "    plt.plot(epochs, loss_valid, label='Validation Loss')\n",
    "    plt.xlabel('Epochs')\n",
    "    plt.ylabel('Cross Entropy Loss')\n",
    "    plt.legend()\n",
    "    plt.show()\n",
    "\n",
    "\n",
    "plot_loss_curves(np.linspace(1, epochs, epochs).astype(int), loss_train, loss_valid)"
   ]
  },
  {
   "cell_type": "code",
   "execution_count": 96,
   "id": "3b403451",
   "metadata": {},
   "outputs": [
    {
     "name": "stdout",
     "output_type": "stream",
     "text": [
      "Test MSE: 1.153137445449829\n"
     ]
    }
   ],
   "source": [
    "# Evaluate the model on the test set\n",
    "with torch.no_grad():\n",
    "    test_outputs = model(test_x)\n",
    "    test_loss = criterion(test_outputs.squeeze(), test_y)\n",
    "    print(f'Test MSE: {test_loss.item()}')\n"
   ]
  }
 ],
 "metadata": {
  "kernelspec": {
   "display_name": "Python 3 (ipykernel)",
   "language": "python",
   "name": "python3"
  },
  "language_info": {
   "codemirror_mode": {
    "name": "ipython",
    "version": 3
   },
   "file_extension": ".py",
   "mimetype": "text/x-python",
   "name": "python",
   "nbconvert_exporter": "python",
   "pygments_lexer": "ipython3",
   "version": "3.11.4"
  }
 },
 "nbformat": 4,
 "nbformat_minor": 5
}
